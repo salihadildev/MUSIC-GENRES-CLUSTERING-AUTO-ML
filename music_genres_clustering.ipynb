{
 "cells": [
  {
   "cell_type": "markdown",
   "metadata": {},
   "source": [
    "# MUSIC GENRES & CLUSTERING / AUTO-ML"
   ]
  },
  {
   "cell_type": "markdown",
   "metadata": {},
   "source": [
    "<img src=\"https://cdn.statcdn.com/Infographic/images/normal/15763.jpeg\">"
   ]
  },
  {
   "cell_type": "markdown",
   "metadata": {},
   "source": [
    "* Auto ml ile clustering yapacağım datamda, farklı türde şarkılara ait özellikler var.\"Energy, Danceability, Loudness (dB), Liveness, Valence, Length (Duration), Acousticness, Speechiness ve Popularity\" sutunlarını kullanarak benzer özelliklere sahip parçaları gruplandırmaya çalıştım,bu şekilde müzit türleri arasındaki benzerlikleri görerek dinleyiciye farklı deneyimler suna biliriz."
   ]
  },
  {
   "cell_type": "code",
   "execution_count": 9,
   "metadata": {
    "collapsed": true,
    "id": "CPrz7rNki-aM",
    "jupyter": {
     "outputs_hidden": true
    }
   },
   "outputs": [],
   "source": [
    "#!pip install pycaret"
   ]
  },
  {
   "cell_type": "code",
   "execution_count": 2,
   "metadata": {
    "id": "2nJxTm9ajUwS"
   },
   "outputs": [],
   "source": [
    "import pandas as pd\n",
    "from sklearn.cluster import KMeans"
   ]
  },
  {
   "cell_type": "code",
   "execution_count": 3,
   "metadata": {
    "id": "Uk3M6qNgjkPC"
   },
   "outputs": [],
   "source": [
    "from pycaret.clustering import*"
   ]
  },
  {
   "cell_type": "code",
   "execution_count": 4,
   "metadata": {
    "id": "FThywCIRjqA9"
   },
   "outputs": [],
   "source": [
    "df=pd.read_csv(\"spotify.csv\")"
   ]
  },
  {
   "cell_type": "code",
   "execution_count": 5,
   "metadata": {
    "colab": {
     "base_uri": "https://localhost:8080/",
     "height": 399
    },
    "id": "33iJ990fj8vG",
    "outputId": "ada76a55-10e4-42ae-f090-7b1c01895521"
   },
   "outputs": [
    {
     "data": {
      "application/vnd.google.colaboratory.intrinsic+json": {
       "summary": "{\n  \"name\": \"df\",\n  \"rows\": 1994,\n  \"fields\": [\n    {\n      \"column\": \"Index\",\n      \"properties\": {\n        \"dtype\": \"number\",\n        \"std\": 575,\n        \"min\": 1,\n        \"max\": 1994,\n        \"num_unique_values\": 1994,\n        \"samples\": [\n          890,\n          1673,\n          415\n        ],\n        \"semantic_type\": \"\",\n        \"description\": \"\"\n      }\n    },\n    {\n      \"column\": \"Title\",\n      \"properties\": {\n        \"dtype\": \"string\",\n        \"num_unique_values\": 1958,\n        \"samples\": [\n          \"You Don't Bring Me Flowers\",\n          \"All For Nothing\",\n          \"Driver's Seat\"\n        ],\n        \"semantic_type\": \"\",\n        \"description\": \"\"\n      }\n    },\n    {\n      \"column\": \"Artist\",\n      \"properties\": {\n        \"dtype\": \"category\",\n        \"num_unique_values\": 731,\n        \"samples\": [\n          \"The Mamas & The Papas\",\n          \"Guus Meeuwis\",\n          \"First Aid Kit\"\n        ],\n        \"semantic_type\": \"\",\n        \"description\": \"\"\n      }\n    },\n    {\n      \"column\": \"Top Genre\",\n      \"properties\": {\n        \"dtype\": \"category\",\n        \"num_unique_values\": 149,\n        \"samples\": [\n          \"g funk\",\n          \"dutch americana\",\n          \"classic soul\"\n        ],\n        \"semantic_type\": \"\",\n        \"description\": \"\"\n      }\n    },\n    {\n      \"column\": \"Year\",\n      \"properties\": {\n        \"dtype\": \"number\",\n        \"std\": 16,\n        \"min\": 1956,\n        \"max\": 2019,\n        \"num_unique_values\": 63,\n        \"samples\": [\n          1958,\n          1967,\n          2004\n        ],\n        \"semantic_type\": \"\",\n        \"description\": \"\"\n      }\n    },\n    {\n      \"column\": \"Beats Per Minute (BPM)\",\n      \"properties\": {\n        \"dtype\": \"number\",\n        \"std\": 28,\n        \"min\": 37,\n        \"max\": 206,\n        \"num_unique_values\": 145,\n        \"samples\": [\n          93,\n          206,\n          122\n        ],\n        \"semantic_type\": \"\",\n        \"description\": \"\"\n      }\n    },\n    {\n      \"column\": \"Energy\",\n      \"properties\": {\n        \"dtype\": \"number\",\n        \"std\": 22,\n        \"min\": 3,\n        \"max\": 100,\n        \"num_unique_values\": 98,\n        \"samples\": [\n          36,\n          35,\n          10\n        ],\n        \"semantic_type\": \"\",\n        \"description\": \"\"\n      }\n    },\n    {\n      \"column\": \"Danceability\",\n      \"properties\": {\n        \"dtype\": \"number\",\n        \"std\": 15,\n        \"min\": 10,\n        \"max\": 96,\n        \"num_unique_values\": 84,\n        \"samples\": [\n          17,\n          53,\n          24\n        ],\n        \"semantic_type\": \"\",\n        \"description\": \"\"\n      }\n    },\n    {\n      \"column\": \"Loudness (dB)\",\n      \"properties\": {\n        \"dtype\": \"number\",\n        \"std\": 3,\n        \"min\": -27,\n        \"max\": -2,\n        \"num_unique_values\": 23,\n        \"samples\": [\n          -15,\n          -2,\n          -14\n        ],\n        \"semantic_type\": \"\",\n        \"description\": \"\"\n      }\n    },\n    {\n      \"column\": \"Liveness\",\n      \"properties\": {\n        \"dtype\": \"number\",\n        \"std\": 16,\n        \"min\": 2,\n        \"max\": 99,\n        \"num_unique_values\": 94,\n        \"samples\": [\n          21,\n          5,\n          52\n        ],\n        \"semantic_type\": \"\",\n        \"description\": \"\"\n      }\n    },\n    {\n      \"column\": \"Valence\",\n      \"properties\": {\n        \"dtype\": \"number\",\n        \"std\": 24,\n        \"min\": 3,\n        \"max\": 99,\n        \"num_unique_values\": 97,\n        \"samples\": [\n          69,\n          63,\n          95\n        ],\n        \"semantic_type\": \"\",\n        \"description\": \"\"\n      }\n    },\n    {\n      \"column\": \"Length (Duration)\",\n      \"properties\": {\n        \"dtype\": \"category\",\n        \"num_unique_values\": 350,\n        \"samples\": [\n          \"194\",\n          \"703\",\n          \"406\"\n        ],\n        \"semantic_type\": \"\",\n        \"description\": \"\"\n      }\n    },\n    {\n      \"column\": \"Acousticness\",\n      \"properties\": {\n        \"dtype\": \"number\",\n        \"std\": 29,\n        \"min\": 0,\n        \"max\": 99,\n        \"num_unique_values\": 100,\n        \"samples\": [\n          23,\n          76,\n          85\n        ],\n        \"semantic_type\": \"\",\n        \"description\": \"\"\n      }\n    },\n    {\n      \"column\": \"Speechiness\",\n      \"properties\": {\n        \"dtype\": \"number\",\n        \"std\": 4,\n        \"min\": 2,\n        \"max\": 55,\n        \"num_unique_values\": 37,\n        \"samples\": [\n          13,\n          25,\n          2\n        ],\n        \"semantic_type\": \"\",\n        \"description\": \"\"\n      }\n    },\n    {\n      \"column\": \"Popularity\",\n      \"properties\": {\n        \"dtype\": \"number\",\n        \"std\": 14,\n        \"min\": 11,\n        \"max\": 100,\n        \"num_unique_values\": 81,\n        \"samples\": [\n          78,\n          71,\n          84\n        ],\n        \"semantic_type\": \"\",\n        \"description\": \"\"\n      }\n    }\n  ]\n}",
       "type": "dataframe",
       "variable_name": "df"
      },
      "text/html": [
       "\n",
       "  <div id=\"df-fe4620bf-ddfb-4d1f-b3c6-4e4a1555f750\" class=\"colab-df-container\">\n",
       "    <div>\n",
       "<style scoped>\n",
       "    .dataframe tbody tr th:only-of-type {\n",
       "        vertical-align: middle;\n",
       "    }\n",
       "\n",
       "    .dataframe tbody tr th {\n",
       "        vertical-align: top;\n",
       "    }\n",
       "\n",
       "    .dataframe thead th {\n",
       "        text-align: right;\n",
       "    }\n",
       "</style>\n",
       "<table border=\"1\" class=\"dataframe\">\n",
       "  <thead>\n",
       "    <tr style=\"text-align: right;\">\n",
       "      <th></th>\n",
       "      <th>Index</th>\n",
       "      <th>Title</th>\n",
       "      <th>Artist</th>\n",
       "      <th>Top Genre</th>\n",
       "      <th>Year</th>\n",
       "      <th>Beats Per Minute (BPM)</th>\n",
       "      <th>Energy</th>\n",
       "      <th>Danceability</th>\n",
       "      <th>Loudness (dB)</th>\n",
       "      <th>Liveness</th>\n",
       "      <th>Valence</th>\n",
       "      <th>Length (Duration)</th>\n",
       "      <th>Acousticness</th>\n",
       "      <th>Speechiness</th>\n",
       "      <th>Popularity</th>\n",
       "    </tr>\n",
       "  </thead>\n",
       "  <tbody>\n",
       "    <tr>\n",
       "      <th>0</th>\n",
       "      <td>1</td>\n",
       "      <td>Sunrise</td>\n",
       "      <td>Norah Jones</td>\n",
       "      <td>adult standards</td>\n",
       "      <td>2004</td>\n",
       "      <td>157</td>\n",
       "      <td>30</td>\n",
       "      <td>53</td>\n",
       "      <td>-14</td>\n",
       "      <td>11</td>\n",
       "      <td>68</td>\n",
       "      <td>201</td>\n",
       "      <td>94</td>\n",
       "      <td>3</td>\n",
       "      <td>71</td>\n",
       "    </tr>\n",
       "    <tr>\n",
       "      <th>1</th>\n",
       "      <td>2</td>\n",
       "      <td>Black Night</td>\n",
       "      <td>Deep Purple</td>\n",
       "      <td>album rock</td>\n",
       "      <td>2000</td>\n",
       "      <td>135</td>\n",
       "      <td>79</td>\n",
       "      <td>50</td>\n",
       "      <td>-11</td>\n",
       "      <td>17</td>\n",
       "      <td>81</td>\n",
       "      <td>207</td>\n",
       "      <td>17</td>\n",
       "      <td>7</td>\n",
       "      <td>39</td>\n",
       "    </tr>\n",
       "    <tr>\n",
       "      <th>2</th>\n",
       "      <td>3</td>\n",
       "      <td>Clint Eastwood</td>\n",
       "      <td>Gorillaz</td>\n",
       "      <td>alternative hip hop</td>\n",
       "      <td>2001</td>\n",
       "      <td>168</td>\n",
       "      <td>69</td>\n",
       "      <td>66</td>\n",
       "      <td>-9</td>\n",
       "      <td>7</td>\n",
       "      <td>52</td>\n",
       "      <td>341</td>\n",
       "      <td>2</td>\n",
       "      <td>17</td>\n",
       "      <td>69</td>\n",
       "    </tr>\n",
       "    <tr>\n",
       "      <th>3</th>\n",
       "      <td>4</td>\n",
       "      <td>The Pretender</td>\n",
       "      <td>Foo Fighters</td>\n",
       "      <td>alternative metal</td>\n",
       "      <td>2007</td>\n",
       "      <td>173</td>\n",
       "      <td>96</td>\n",
       "      <td>43</td>\n",
       "      <td>-4</td>\n",
       "      <td>3</td>\n",
       "      <td>37</td>\n",
       "      <td>269</td>\n",
       "      <td>0</td>\n",
       "      <td>4</td>\n",
       "      <td>76</td>\n",
       "    </tr>\n",
       "    <tr>\n",
       "      <th>4</th>\n",
       "      <td>5</td>\n",
       "      <td>Waitin' On A Sunny Day</td>\n",
       "      <td>Bruce Springsteen</td>\n",
       "      <td>classic rock</td>\n",
       "      <td>2002</td>\n",
       "      <td>106</td>\n",
       "      <td>82</td>\n",
       "      <td>58</td>\n",
       "      <td>-5</td>\n",
       "      <td>10</td>\n",
       "      <td>87</td>\n",
       "      <td>256</td>\n",
       "      <td>1</td>\n",
       "      <td>3</td>\n",
       "      <td>59</td>\n",
       "    </tr>\n",
       "  </tbody>\n",
       "</table>\n",
       "</div>\n",
       "    <div class=\"colab-df-buttons\">\n",
       "\n",
       "  <div class=\"colab-df-container\">\n",
       "    <button class=\"colab-df-convert\" onclick=\"convertToInteractive('df-fe4620bf-ddfb-4d1f-b3c6-4e4a1555f750')\"\n",
       "            title=\"Convert this dataframe to an interactive table.\"\n",
       "            style=\"display:none;\">\n",
       "\n",
       "  <svg xmlns=\"http://www.w3.org/2000/svg\" height=\"24px\" viewBox=\"0 -960 960 960\">\n",
       "    <path d=\"M120-120v-720h720v720H120Zm60-500h600v-160H180v160Zm220 220h160v-160H400v160Zm0 220h160v-160H400v160ZM180-400h160v-160H180v160Zm440 0h160v-160H620v160ZM180-180h160v-160H180v160Zm440 0h160v-160H620v160Z\"/>\n",
       "  </svg>\n",
       "    </button>\n",
       "\n",
       "  <style>\n",
       "    .colab-df-container {\n",
       "      display:flex;\n",
       "      gap: 12px;\n",
       "    }\n",
       "\n",
       "    .colab-df-convert {\n",
       "      background-color: #E8F0FE;\n",
       "      border: none;\n",
       "      border-radius: 50%;\n",
       "      cursor: pointer;\n",
       "      display: none;\n",
       "      fill: #1967D2;\n",
       "      height: 32px;\n",
       "      padding: 0 0 0 0;\n",
       "      width: 32px;\n",
       "    }\n",
       "\n",
       "    .colab-df-convert:hover {\n",
       "      background-color: #E2EBFA;\n",
       "      box-shadow: 0px 1px 2px rgba(60, 64, 67, 0.3), 0px 1px 3px 1px rgba(60, 64, 67, 0.15);\n",
       "      fill: #174EA6;\n",
       "    }\n",
       "\n",
       "    .colab-df-buttons div {\n",
       "      margin-bottom: 4px;\n",
       "    }\n",
       "\n",
       "    [theme=dark] .colab-df-convert {\n",
       "      background-color: #3B4455;\n",
       "      fill: #D2E3FC;\n",
       "    }\n",
       "\n",
       "    [theme=dark] .colab-df-convert:hover {\n",
       "      background-color: #434B5C;\n",
       "      box-shadow: 0px 1px 3px 1px rgba(0, 0, 0, 0.15);\n",
       "      filter: drop-shadow(0px 1px 2px rgba(0, 0, 0, 0.3));\n",
       "      fill: #FFFFFF;\n",
       "    }\n",
       "  </style>\n",
       "\n",
       "    <script>\n",
       "      const buttonEl =\n",
       "        document.querySelector('#df-fe4620bf-ddfb-4d1f-b3c6-4e4a1555f750 button.colab-df-convert');\n",
       "      buttonEl.style.display =\n",
       "        google.colab.kernel.accessAllowed ? 'block' : 'none';\n",
       "\n",
       "      async function convertToInteractive(key) {\n",
       "        const element = document.querySelector('#df-fe4620bf-ddfb-4d1f-b3c6-4e4a1555f750');\n",
       "        const dataTable =\n",
       "          await google.colab.kernel.invokeFunction('convertToInteractive',\n",
       "                                                    [key], {});\n",
       "        if (!dataTable) return;\n",
       "\n",
       "        const docLinkHtml = 'Like what you see? Visit the ' +\n",
       "          '<a target=\"_blank\" href=https://colab.research.google.com/notebooks/data_table.ipynb>data table notebook</a>'\n",
       "          + ' to learn more about interactive tables.';\n",
       "        element.innerHTML = '';\n",
       "        dataTable['output_type'] = 'display_data';\n",
       "        await google.colab.output.renderOutput(dataTable, element);\n",
       "        const docLink = document.createElement('div');\n",
       "        docLink.innerHTML = docLinkHtml;\n",
       "        element.appendChild(docLink);\n",
       "      }\n",
       "    </script>\n",
       "  </div>\n",
       "\n",
       "\n",
       "<div id=\"df-cbbc471b-ca10-4eae-8474-4ecd270f0b4e\">\n",
       "  <button class=\"colab-df-quickchart\" onclick=\"quickchart('df-cbbc471b-ca10-4eae-8474-4ecd270f0b4e')\"\n",
       "            title=\"Suggest charts\"\n",
       "            style=\"display:none;\">\n",
       "\n",
       "<svg xmlns=\"http://www.w3.org/2000/svg\" height=\"24px\"viewBox=\"0 0 24 24\"\n",
       "     width=\"24px\">\n",
       "    <g>\n",
       "        <path d=\"M19 3H5c-1.1 0-2 .9-2 2v14c0 1.1.9 2 2 2h14c1.1 0 2-.9 2-2V5c0-1.1-.9-2-2-2zM9 17H7v-7h2v7zm4 0h-2V7h2v10zm4 0h-2v-4h2v4z\"/>\n",
       "    </g>\n",
       "</svg>\n",
       "  </button>\n",
       "\n",
       "<style>\n",
       "  .colab-df-quickchart {\n",
       "      --bg-color: #E8F0FE;\n",
       "      --fill-color: #1967D2;\n",
       "      --hover-bg-color: #E2EBFA;\n",
       "      --hover-fill-color: #174EA6;\n",
       "      --disabled-fill-color: #AAA;\n",
       "      --disabled-bg-color: #DDD;\n",
       "  }\n",
       "\n",
       "  [theme=dark] .colab-df-quickchart {\n",
       "      --bg-color: #3B4455;\n",
       "      --fill-color: #D2E3FC;\n",
       "      --hover-bg-color: #434B5C;\n",
       "      --hover-fill-color: #FFFFFF;\n",
       "      --disabled-bg-color: #3B4455;\n",
       "      --disabled-fill-color: #666;\n",
       "  }\n",
       "\n",
       "  .colab-df-quickchart {\n",
       "    background-color: var(--bg-color);\n",
       "    border: none;\n",
       "    border-radius: 50%;\n",
       "    cursor: pointer;\n",
       "    display: none;\n",
       "    fill: var(--fill-color);\n",
       "    height: 32px;\n",
       "    padding: 0;\n",
       "    width: 32px;\n",
       "  }\n",
       "\n",
       "  .colab-df-quickchart:hover {\n",
       "    background-color: var(--hover-bg-color);\n",
       "    box-shadow: 0 1px 2px rgba(60, 64, 67, 0.3), 0 1px 3px 1px rgba(60, 64, 67, 0.15);\n",
       "    fill: var(--button-hover-fill-color);\n",
       "  }\n",
       "\n",
       "  .colab-df-quickchart-complete:disabled,\n",
       "  .colab-df-quickchart-complete:disabled:hover {\n",
       "    background-color: var(--disabled-bg-color);\n",
       "    fill: var(--disabled-fill-color);\n",
       "    box-shadow: none;\n",
       "  }\n",
       "\n",
       "  .colab-df-spinner {\n",
       "    border: 2px solid var(--fill-color);\n",
       "    border-color: transparent;\n",
       "    border-bottom-color: var(--fill-color);\n",
       "    animation:\n",
       "      spin 1s steps(1) infinite;\n",
       "  }\n",
       "\n",
       "  @keyframes spin {\n",
       "    0% {\n",
       "      border-color: transparent;\n",
       "      border-bottom-color: var(--fill-color);\n",
       "      border-left-color: var(--fill-color);\n",
       "    }\n",
       "    20% {\n",
       "      border-color: transparent;\n",
       "      border-left-color: var(--fill-color);\n",
       "      border-top-color: var(--fill-color);\n",
       "    }\n",
       "    30% {\n",
       "      border-color: transparent;\n",
       "      border-left-color: var(--fill-color);\n",
       "      border-top-color: var(--fill-color);\n",
       "      border-right-color: var(--fill-color);\n",
       "    }\n",
       "    40% {\n",
       "      border-color: transparent;\n",
       "      border-right-color: var(--fill-color);\n",
       "      border-top-color: var(--fill-color);\n",
       "    }\n",
       "    60% {\n",
       "      border-color: transparent;\n",
       "      border-right-color: var(--fill-color);\n",
       "    }\n",
       "    80% {\n",
       "      border-color: transparent;\n",
       "      border-right-color: var(--fill-color);\n",
       "      border-bottom-color: var(--fill-color);\n",
       "    }\n",
       "    90% {\n",
       "      border-color: transparent;\n",
       "      border-bottom-color: var(--fill-color);\n",
       "    }\n",
       "  }\n",
       "</style>\n",
       "\n",
       "  <script>\n",
       "    async function quickchart(key) {\n",
       "      const quickchartButtonEl =\n",
       "        document.querySelector('#' + key + ' button');\n",
       "      quickchartButtonEl.disabled = true;  // To prevent multiple clicks.\n",
       "      quickchartButtonEl.classList.add('colab-df-spinner');\n",
       "      try {\n",
       "        const charts = await google.colab.kernel.invokeFunction(\n",
       "            'suggestCharts', [key], {});\n",
       "      } catch (error) {\n",
       "        console.error('Error during call to suggestCharts:', error);\n",
       "      }\n",
       "      quickchartButtonEl.classList.remove('colab-df-spinner');\n",
       "      quickchartButtonEl.classList.add('colab-df-quickchart-complete');\n",
       "    }\n",
       "    (() => {\n",
       "      let quickchartButtonEl =\n",
       "        document.querySelector('#df-cbbc471b-ca10-4eae-8474-4ecd270f0b4e button');\n",
       "      quickchartButtonEl.style.display =\n",
       "        google.colab.kernel.accessAllowed ? 'block' : 'none';\n",
       "    })();\n",
       "  </script>\n",
       "</div>\n",
       "\n",
       "    </div>\n",
       "  </div>\n"
      ],
      "text/plain": [
       "   Index                   Title             Artist            Top Genre  \\\n",
       "0      1                 Sunrise        Norah Jones      adult standards   \n",
       "1      2             Black Night        Deep Purple           album rock   \n",
       "2      3          Clint Eastwood           Gorillaz  alternative hip hop   \n",
       "3      4           The Pretender       Foo Fighters    alternative metal   \n",
       "4      5  Waitin' On A Sunny Day  Bruce Springsteen         classic rock   \n",
       "\n",
       "   Year  Beats Per Minute (BPM)  Energy  Danceability  Loudness (dB)  \\\n",
       "0  2004                     157      30            53            -14   \n",
       "1  2000                     135      79            50            -11   \n",
       "2  2001                     168      69            66             -9   \n",
       "3  2007                     173      96            43             -4   \n",
       "4  2002                     106      82            58             -5   \n",
       "\n",
       "   Liveness  Valence Length (Duration)  Acousticness  Speechiness  Popularity  \n",
       "0        11       68               201            94            3          71  \n",
       "1        17       81               207            17            7          39  \n",
       "2         7       52               341             2           17          69  \n",
       "3         3       37               269             0            4          76  \n",
       "4        10       87               256             1            3          59  "
      ]
     },
     "execution_count": 5,
     "metadata": {},
     "output_type": "execute_result"
    }
   ],
   "source": [
    "df.head()"
   ]
  },
  {
   "cell_type": "code",
   "execution_count": 6,
   "metadata": {
    "id": "Jl-s21ferPRl"
   },
   "outputs": [],
   "source": [
    "df2 = df[['Energy', 'Danceability', 'Loudness (dB)', 'Liveness', 'Valence', 'Length (Duration)', 'Acousticness', 'Speechiness', 'Popularity']].copy()"
   ]
  },
  {
   "cell_type": "code",
   "execution_count": 10,
   "metadata": {
    "colab": {
     "base_uri": "https://localhost:8080/",
     "height": 568
    },
    "id": "zJkrFyQKkQRD",
    "outputId": "356ab384-03cc-4e2a-a21a-9f3fa55b8b15"
   },
   "outputs": [
    {
     "data": {
      "text/html": [
       "<style type=\"text/css\">\n",
       "#T_5c6e3_row5_col1 {\n",
       "  background-color: lightgreen;\n",
       "}\n",
       "</style>\n",
       "<table id=\"T_5c6e3\" class=\"dataframe\">\n",
       "  <thead>\n",
       "    <tr>\n",
       "      <th class=\"blank level0\" >&nbsp;</th>\n",
       "      <th id=\"T_5c6e3_level0_col0\" class=\"col_heading level0 col0\" >Description</th>\n",
       "      <th id=\"T_5c6e3_level0_col1\" class=\"col_heading level0 col1\" >Value</th>\n",
       "    </tr>\n",
       "  </thead>\n",
       "  <tbody>\n",
       "    <tr>\n",
       "      <th id=\"T_5c6e3_level0_row0\" class=\"row_heading level0 row0\" >0</th>\n",
       "      <td id=\"T_5c6e3_row0_col0\" class=\"data row0 col0\" >Session id</td>\n",
       "      <td id=\"T_5c6e3_row0_col1\" class=\"data row0 col1\" >6728</td>\n",
       "    </tr>\n",
       "    <tr>\n",
       "      <th id=\"T_5c6e3_level0_row1\" class=\"row_heading level0 row1\" >1</th>\n",
       "      <td id=\"T_5c6e3_row1_col0\" class=\"data row1 col0\" >Original data shape</td>\n",
       "      <td id=\"T_5c6e3_row1_col1\" class=\"data row1 col1\" >(1994, 9)</td>\n",
       "    </tr>\n",
       "    <tr>\n",
       "      <th id=\"T_5c6e3_level0_row2\" class=\"row_heading level0 row2\" >2</th>\n",
       "      <td id=\"T_5c6e3_row2_col0\" class=\"data row2 col0\" >Transformed data shape</td>\n",
       "      <td id=\"T_5c6e3_row2_col1\" class=\"data row2 col1\" >(1994, 358)</td>\n",
       "    </tr>\n",
       "    <tr>\n",
       "      <th id=\"T_5c6e3_level0_row3\" class=\"row_heading level0 row3\" >3</th>\n",
       "      <td id=\"T_5c6e3_row3_col0\" class=\"data row3 col0\" >Numeric features</td>\n",
       "      <td id=\"T_5c6e3_row3_col1\" class=\"data row3 col1\" >8</td>\n",
       "    </tr>\n",
       "    <tr>\n",
       "      <th id=\"T_5c6e3_level0_row4\" class=\"row_heading level0 row4\" >4</th>\n",
       "      <td id=\"T_5c6e3_row4_col0\" class=\"data row4 col0\" >Categorical features</td>\n",
       "      <td id=\"T_5c6e3_row4_col1\" class=\"data row4 col1\" >1</td>\n",
       "    </tr>\n",
       "    <tr>\n",
       "      <th id=\"T_5c6e3_level0_row5\" class=\"row_heading level0 row5\" >5</th>\n",
       "      <td id=\"T_5c6e3_row5_col0\" class=\"data row5 col0\" >Preprocess</td>\n",
       "      <td id=\"T_5c6e3_row5_col1\" class=\"data row5 col1\" >True</td>\n",
       "    </tr>\n",
       "    <tr>\n",
       "      <th id=\"T_5c6e3_level0_row6\" class=\"row_heading level0 row6\" >6</th>\n",
       "      <td id=\"T_5c6e3_row6_col0\" class=\"data row6 col0\" >Imputation type</td>\n",
       "      <td id=\"T_5c6e3_row6_col1\" class=\"data row6 col1\" >simple</td>\n",
       "    </tr>\n",
       "    <tr>\n",
       "      <th id=\"T_5c6e3_level0_row7\" class=\"row_heading level0 row7\" >7</th>\n",
       "      <td id=\"T_5c6e3_row7_col0\" class=\"data row7 col0\" >Numeric imputation</td>\n",
       "      <td id=\"T_5c6e3_row7_col1\" class=\"data row7 col1\" >mean</td>\n",
       "    </tr>\n",
       "    <tr>\n",
       "      <th id=\"T_5c6e3_level0_row8\" class=\"row_heading level0 row8\" >8</th>\n",
       "      <td id=\"T_5c6e3_row8_col0\" class=\"data row8 col0\" >Categorical imputation</td>\n",
       "      <td id=\"T_5c6e3_row8_col1\" class=\"data row8 col1\" >mode</td>\n",
       "    </tr>\n",
       "    <tr>\n",
       "      <th id=\"T_5c6e3_level0_row9\" class=\"row_heading level0 row9\" >9</th>\n",
       "      <td id=\"T_5c6e3_row9_col0\" class=\"data row9 col0\" >Maximum one-hot encoding</td>\n",
       "      <td id=\"T_5c6e3_row9_col1\" class=\"data row9 col1\" >-1</td>\n",
       "    </tr>\n",
       "    <tr>\n",
       "      <th id=\"T_5c6e3_level0_row10\" class=\"row_heading level0 row10\" >10</th>\n",
       "      <td id=\"T_5c6e3_row10_col0\" class=\"data row10 col0\" >Encoding method</td>\n",
       "      <td id=\"T_5c6e3_row10_col1\" class=\"data row10 col1\" >None</td>\n",
       "    </tr>\n",
       "    <tr>\n",
       "      <th id=\"T_5c6e3_level0_row11\" class=\"row_heading level0 row11\" >11</th>\n",
       "      <td id=\"T_5c6e3_row11_col0\" class=\"data row11 col0\" >CPU Jobs</td>\n",
       "      <td id=\"T_5c6e3_row11_col1\" class=\"data row11 col1\" >-1</td>\n",
       "    </tr>\n",
       "    <tr>\n",
       "      <th id=\"T_5c6e3_level0_row12\" class=\"row_heading level0 row12\" >12</th>\n",
       "      <td id=\"T_5c6e3_row12_col0\" class=\"data row12 col0\" >Use GPU</td>\n",
       "      <td id=\"T_5c6e3_row12_col1\" class=\"data row12 col1\" >False</td>\n",
       "    </tr>\n",
       "    <tr>\n",
       "      <th id=\"T_5c6e3_level0_row13\" class=\"row_heading level0 row13\" >13</th>\n",
       "      <td id=\"T_5c6e3_row13_col0\" class=\"data row13 col0\" >Log Experiment</td>\n",
       "      <td id=\"T_5c6e3_row13_col1\" class=\"data row13 col1\" >False</td>\n",
       "    </tr>\n",
       "    <tr>\n",
       "      <th id=\"T_5c6e3_level0_row14\" class=\"row_heading level0 row14\" >14</th>\n",
       "      <td id=\"T_5c6e3_row14_col0\" class=\"data row14 col0\" >Experiment Name</td>\n",
       "      <td id=\"T_5c6e3_row14_col1\" class=\"data row14 col1\" >cluster-default-name</td>\n",
       "    </tr>\n",
       "    <tr>\n",
       "      <th id=\"T_5c6e3_level0_row15\" class=\"row_heading level0 row15\" >15</th>\n",
       "      <td id=\"T_5c6e3_row15_col0\" class=\"data row15 col0\" >USI</td>\n",
       "      <td id=\"T_5c6e3_row15_col1\" class=\"data row15 col1\" >424a</td>\n",
       "    </tr>\n",
       "  </tbody>\n",
       "</table>\n"
      ],
      "text/plain": [
       "<pandas.io.formats.style.Styler at 0x79f8079c45e0>"
      ]
     },
     "metadata": {},
     "output_type": "display_data"
    },
    {
     "data": {
      "text/plain": [
       "<pycaret.clustering.oop.ClusteringExperiment at 0x79f867da01c0>"
      ]
     },
     "execution_count": 10,
     "metadata": {},
     "output_type": "execute_result"
    }
   ],
   "source": [
    "setup(df2)  # datayı analiz ediyor,shape,istatistik vs, boş veri varsa bu verileri dolduruyor."
   ]
  },
  {
   "cell_type": "code",
   "execution_count": 19,
   "metadata": {
    "colab": {
     "base_uri": "https://localhost:8080/",
     "height": 80,
     "referenced_widgets": [
      "d0cc96ecf80e4c56b59574a6b5ed73e4",
      "e0aec8bd37fe467badd468a6774ae836",
      "ff1c6ac8f31249079126591e31d40626",
      "32abf6db8ef94c1a8690766fa743d55d",
      "b8385df7b33248acbb27f3360c7ece8c",
      "d558d1e0ee4e4ecb8e0ec352df0ec406",
      "b8af4d81f84c42e09bcaf713c9712101",
      "5aa037cc8b0d4b7d95214dcfde1dd9a3",
      "634026ac62784931a38b0a6c65b2c093",
      "26b8448a48f546c4b9ef94918788bcd8",
      "154a41bc9cd14c78b672a3fb3d919ee4"
     ]
    },
    "id": "K-9v6_3GkwEZ",
    "outputId": "95c28964-d1d4-4b89-dceb-91efcdef9447"
   },
   "outputs": [
    {
     "data": {
      "text/html": [],
      "text/plain": [
       "<IPython.core.display.HTML object>"
      ]
     },
     "metadata": {},
     "output_type": "display_data"
    },
    {
     "data": {
      "text/html": [
       "<style type=\"text/css\">\n",
       "</style>\n",
       "<table id=\"T_da5c1\" class=\"dataframe\">\n",
       "  <thead>\n",
       "    <tr>\n",
       "      <th class=\"blank level0\" >&nbsp;</th>\n",
       "      <th id=\"T_da5c1_level0_col0\" class=\"col_heading level0 col0\" >Silhouette</th>\n",
       "      <th id=\"T_da5c1_level0_col1\" class=\"col_heading level0 col1\" >Calinski-Harabasz</th>\n",
       "      <th id=\"T_da5c1_level0_col2\" class=\"col_heading level0 col2\" >Davies-Bouldin</th>\n",
       "      <th id=\"T_da5c1_level0_col3\" class=\"col_heading level0 col3\" >Homogeneity</th>\n",
       "      <th id=\"T_da5c1_level0_col4\" class=\"col_heading level0 col4\" >Rand Index</th>\n",
       "      <th id=\"T_da5c1_level0_col5\" class=\"col_heading level0 col5\" >Completeness</th>\n",
       "    </tr>\n",
       "  </thead>\n",
       "  <tbody>\n",
       "    <tr>\n",
       "      <th id=\"T_da5c1_level0_row0\" class=\"row_heading level0 row0\" >0</th>\n",
       "      <td id=\"T_da5c1_row0_col0\" class=\"data row0 col0\" >0.2216</td>\n",
       "      <td id=\"T_da5c1_row0_col1\" class=\"data row0 col1\" >635.4427</td>\n",
       "      <td id=\"T_da5c1_row0_col2\" class=\"data row0 col2\" >1.3571</td>\n",
       "      <td id=\"T_da5c1_row0_col3\" class=\"data row0 col3\" >0</td>\n",
       "      <td id=\"T_da5c1_row0_col4\" class=\"data row0 col4\" >0</td>\n",
       "      <td id=\"T_da5c1_row0_col5\" class=\"data row0 col5\" >0</td>\n",
       "    </tr>\n",
       "  </tbody>\n",
       "</table>\n"
      ],
      "text/plain": [
       "<pandas.io.formats.style.Styler at 0x79f8801bf190>"
      ]
     },
     "metadata": {},
     "output_type": "display_data"
    },
    {
     "data": {
      "application/vnd.jupyter.widget-view+json": {
       "model_id": "d0cc96ecf80e4c56b59574a6b5ed73e4",
       "version_major": 2,
       "version_minor": 0
      },
      "text/plain": [
       "Processing:   0%|          | 0/3 [00:00<?, ?it/s]"
      ]
     },
     "metadata": {
      "application/vnd.jupyter.widget-view+json": {
       "colab": {
        "custom_widget_manager": {
         "url": "https://ssl.gstatic.com/colaboratory-static/widgets/colab-cdn-widget-manager/2b70e893a8ba7c0f/manager.min.js"
        }
       }
      }
     },
     "output_type": "display_data"
    },
    {
     "data": {
      "text/html": [],
      "text/plain": [
       "<IPython.core.display.HTML object>"
      ]
     },
     "metadata": {},
     "output_type": "display_data"
    }
   ],
   "source": [
    "kmeans=create_model('kmeans',6) # k-means modeli oluşturup 5 kümeye ayırıyor"
   ]
  },
  {
   "cell_type": "code",
   "execution_count": 20,
   "metadata": {
    "colab": {
     "base_uri": "https://localhost:8080/",
     "height": 617
    },
    "id": "mWP4EiDroP4T",
    "outputId": "4875a0e2-14ed-443c-dca4-78131c645642"
   },
   "outputs": [
    {
     "data": {
      "text/html": [],
      "text/plain": [
       "<IPython.core.display.HTML object>"
      ]
     },
     "metadata": {},
     "output_type": "display_data"
    },
    {
     "data": {
      "text/html": [
       "<html>\n",
       "<head><meta charset=\"utf-8\" /></head>\n",
       "<body>\n",
       "    <div>            <script src=\"https://cdnjs.cloudflare.com/ajax/libs/mathjax/2.7.5/MathJax.js?config=TeX-AMS-MML_SVG\"></script><script type=\"text/javascript\">if (window.MathJax && window.MathJax.Hub && window.MathJax.Hub.Config) {window.MathJax.Hub.Config({SVG: {font: \"STIX-Web\"}});}</script>                <script type=\"text/javascript\">window.PlotlyConfig = {MathJaxConfig: 'local'};</script>\n",
       "        <script charset=\"utf-8\" src=\"https://cdn.plot.ly/plotly-2.24.1.min.js\"></script>                <div id=\"163a4420-0c59-4a30-8515-5bcb185a0f09\" class=\"plotly-graph-div\" style=\"height:600px; width:100%;\"></div>            <script type=\"text/javascript\">                                    window.PLOTLYENV=window.PLOTLYENV || {};                                    if (document.getElementById(\"163a4420-0c59-4a30-8515-5bcb185a0f09\")) {                    Plotly.newPlot(                        \"163a4420-0c59-4a30-8515-5bcb185a0f09\",                        [{\"customdata\":[[83],[61],[69],[63],[92],[93],[65],[71],[50],[60],[82],[67],[71],[52],[46],[47],[76],[80],[76],[80],[73],[46],[79],[83],[88],[78],[95],[72],[81],[40],[63],[35],[63],[70],[88],[66],[91],[78],[59],[89],[80],[53],[54],[64],[60],[47],[80],[84],[78],[43],[90],[75],[49],[58],[56],[68],[92],[41],[86],[73],[58],[76],[67],[55],[70],[83],[72],[71],[57],[78],[74],[90],[93],[43],[61],[63],[80],[63],[74],[79],[84],[74],[90],[81],[63],[77],[47],[97],[64],[44],[60],[58],[54],[50],[57],[58],[75],[70],[88],[75],[72],[83],[78],[88],[65],[88],[88],[92],[86],[91],[60],[87],[67],[72],[69],[56],[79],[82],[35],[86],[74],[69],[89],[49],[84],[61],[75],[49],[62],[39],[85],[49],[81],[46],[40],[64],[75],[94],[66],[94],[58],[86],[91],[87],[83],[79],[73],[66],[92],[81],[92],[66],[94],[48],[54],[52],[72],[71],[76],[51],[70],[53],[67],[41],[82],[80],[87],[53],[70],[88],[70],[57],[78],[56],[62],[82],[48],[64],[65],[52],[80],[60],[50],[71],[78],[66],[85],[69],[80],[50],[69],[52],[97],[78],[49],[83],[67],[79],[71],[87],[38],[85],[88],[77],[96],[72],[74],[58],[75],[70],[53],[80],[78],[72],[57],[56],[60],[52],[73],[66],[54],[73],[72],[83],[61],[48],[70],[77],[72],[70],[38],[74],[92],[65],[96],[78],[63],[59],[86],[51],[64],[61],[66],[67],[83],[89],[74],[95],[51],[65],[85],[94],[77],[61],[91],[82],[87],[80],[91],[74],[68],[25],[59],[74],[79],[91],[82],[79],[86],[56],[54],[70],[90],[90],[94],[86],[36],[76],[84],[78],[72],[89],[89],[43],[61],[74],[64],[82],[97],[88],[81],[39],[79],[81],[68],[73],[93],[74],[65],[51],[60],[54],[53],[45],[72],[85],[53],[88],[76],[42],[51],[39],[63],[80],[65],[88],[74],[80],[54],[78],[85],[64],[84],[78],[87],[60],[76],[81],[89],[79],[90],[41],[57],[59],[71],[99],[76],[69],[77],[56],[41],[85],[56],[77],[81],[92],[73],[59],[84],[69],[63],[67],[83],[34],[65],[62],[58],[63],[65],[88],[85],[45],[70],[63],[84],[73],[89],[74],[92],[54],[94],[71],[90],[84],[94],[82],[82],[66],[73],[70],[94],[60],[83],[82],[47],[66],[57],[81],[78],[70],[93],[88],[77],[96],[27],[54],[86],[93],[66],[90],[86],[90],[63],[89],[78],[76],[91],[80],[77],[51],[98],[49],[52],[67],[80],[71],[75],[77],[58],[80],[75],[91],[60],[61],[77],[74],[62],[87],[92],[82],[76],[86],[73],[84],[80],[69],[86],[76],[72],[60],[59],[46],[68],[97],[85],[81],[69],[86],[82],[96],[80],[58],[75],[82],[99],[72],[75],[65],[62],[38],[75],[72],[73],[82],[65],[93],[79],[82],[71],[67],[81],[89],[76],[66],[77],[39]],\"hovertemplate\":\"Cluster=Cluster 0\\u003cbr\\u003ePCA1=%{x}\\u003cbr\\u003ePCA2=%{y}\\u003cbr\\u003eFeature=%{customdata[0]}\\u003cextra\\u003e\\u003c\\u002fextra\\u003e\",\"legendgroup\":\"Cluster 0\",\"marker\":{\"color\":\"#636efa\",\"opacity\":0.5,\"symbol\":\"circle\"},\"mode\":\"markers\",\"name\":\"Cluster 0\",\"showlegend\":true,\"x\":[-33.96507849929203,-33.91181283823348,-34.55690285750153,-27.112184074824185,-53.20502067586007,-44.73163690262715,-15.35600111305049,-38.655725443353205,-13.007734599652586,-18.420040584281967,-34.3547050808518,-29.779125454487158,-30.88906864896221,-33.3709320749724,-4.929932387925732,-19.997217835411696,-39.11174560952109,-42.202861987740846,-35.54649116218434,-30.07304499809973,-30.54547183445352,-20.89561184143778,-47.23019608417207,-43.52500512263234,-42.51369813736123,-37.93272093511951,-48.93852645609648,-27.985224758536337,-48.597958919426574,-10.58411909002833,-28.774088076343336,-2.1977401350750765,-16.66515343582456,-22.999718255602385,-33.04877900297001,-28.8546406738952,-25.20940052856752,-24.693298577252943,-35.96796484804992,-48.791094400453616,-31.216425422832863,-18.04069528393547,-28.653740304726316,-29.284174577050656,-21.901766578524317,-27.44374235565614,-34.618527300583985,-44.29319805346165,-15.452131982184168,-15.523483287352668,-39.89151557025772,-17.278192651026536,-8.543523588606309,-25.794483076747746,-31.35751518732858,-41.63999311093902,-50.95097728895642,-12.42327792633177,-30.46644494977546,-40.27355966314536,-26.228106775343576,-29.82871632345052,-27.59923325211914,-25.68365498373317,-23.00928452351048,-34.27899532251916,-41.70321700035979,-21.374002956019893,-27.74641743881658,-46.20818673094564,-29.140655191834604,-32.78779959953354,-48.58034861337215,-5.454726152481282,-35.38071746971468,-17.641474833048996,-52.57887456270347,-27.37506372173438,-42.498461818185724,-44.93873794358248,-26.076129332380482,-32.222881935512,-52.87955949041814,-44.10982414419078,-38.0211199766297,-35.99957905356641,-34.44344794836465,-50.95611458519688,-23.471161321680032,-23.093425005453664,-24.08853446285309,-19.345569669700225,-23.20571478325422,-21.87422255473133,-18.766025335227663,-22.0003911552222,-35.09532232410901,-35.12727792797711,-46.24002951332496,-42.15415640393078,-27.406680091047555,-45.06060412172437,-42.75232195187477,-50.010740786207855,-16.385561285671177,-39.933681088057874,-33.64504756749406,-50.12767876880005,-35.88406845746172,-38.37142431997416,-36.069843757977736,-52.617300226663396,-27.914802466323984,-21.472367568920063,-35.85026722813525,-32.84639786190313,-47.256329067556855,-38.47174150288322,-8.099232558041857,-48.54069228017869,-21.916238617656074,-21.743222662554295,-51.24000260625319,-21.51766400279333,-19.686032685763973,-30.305678704681334,-26.77114717535335,-22.19734088454831,-14.529466204873184,-16.64638891631993,-38.696077626249775,-18.63517148894107,-47.28183233733815,-18.130221816290387,-10.526573464166475,-24.429373466159674,-49.49302421474544,-56.195478569738896,-17.650720841663848,-50.38825038688862,-24.445997346059276,-39.84909806740882,-50.32747517162432,-45.625807442218004,-40.390052345764005,-52.32930272092053,-20.003109086151387,-39.769088513658936,-48.62829677710789,-28.358280642220937,-43.75340020756417,-30.725775639474048,-52.597723756993034,-23.36803904872734,-17.307318232671502,-33.45690900540182,-40.00685387631003,-44.21471207724489,-33.392187500955565,-21.48250561049544,-36.24485151398322,-27.482978607470965,-39.174125538280535,-11.847835609225353,-48.024589377857765,-36.75956555624628,-39.97159052067946,-26.57907119628422,-36.04699476592765,-31.290710991617022,-17.287413989202285,-29.105096965693836,-44.97490939727354,-23.922314416382502,-30.97676135183645,-31.646314323174167,-11.302948702608887,-42.982118623744775,-14.286684346199305,-19.29427756932688,-50.009033922263285,-24.44518054939692,-9.47828990488245,-43.6089175533207,-38.51873884685274,-27.03689712578584,-37.61624906988684,-34.15370032911411,-41.80399858952548,-22.391986431300932,-32.05479542059592,-33.46755947609703,-57.47472214441052,-13.894396625279256,-24.80454173431914,-27.317454655938672,-27.416160225948545,-36.669882585443496,-45.13233009619774,-40.37240486538873,-12.524008571456637,-39.649829997746224,-28.032313385753042,-43.49350521183853,-53.91208323554612,-45.46527577063224,-18.197325675541077,-25.46288690195225,-36.33779979201528,-40.850502989735375,-21.82923953369847,-40.34388545288101,-40.356594022724,-27.758831744417545,-28.648198648599838,-26.004210659214216,-29.29983853629398,-29.659378916137264,-27.76045033631446,-42.93172337468801,-24.003246213302635,-21.7437221780418,-17.901871442430703,-43.528311290363014,-18.819191016542593,-21.090402078263633,-34.24389876143611,-43.26713145814887,-33.30068005859393,-35.37924708694018,-23.70379917550351,-27.54406915075758,-49.18233980127367,-19.335134610121326,-52.91016608717613,-25.77615394788255,-36.74262466387586,-24.369675709358333,-36.56443156752125,-33.58260446290251,-26.352353730272988,-33.442707005866545,-34.42149342457953,-21.387520269335518,-37.921507638116516,-52.90156529407236,-32.742629620690394,-52.631690091276425,-20.09212080037891,-25.92159035148837,-46.27928569830269,-53.2795608718122,-36.97712941705883,-21.8988352112563,-48.18327719364526,-37.78776315364041,-42.28257146392821,-39.49196552429393,-48.274670119477825,-32.6853093557237,-34.0937620499274,-8.207493029796943,-24.10074878357445,-35.52644970988138,-52.587154315652285,-46.878937343335785,-39.38339125329074,-43.3833280841166,-37.38655493960535,-35.533892385275315,-26.594419312520092,-45.300551228543526,-42.623354724113,-35.128015312662285,-56.36344426344504,-45.02240834837307,-9.683012314391616,-46.75325069066243,-40.80305533083032,-41.19370931924519,-18.700442249085935,-45.80373042370079,-51.60285539189335,-15.362246949268973,-44.21360131224262,-43.06698873673363,-29.786392742138972,-37.04330668572265,-56.1226288256772,-41.229860475591,-22.484170483359133,-15.046562507427927,-22.604555418264187,-35.37634759895023,-20.310317557770635,-49.515482518702264,-57.380864941084226,-38.61663129745529,-43.290231574851575,-23.1941943842462,-13.303077466195024,-10.490971285735954,-27.206749747923595,-20.27869962219689,-30.589205118430332,-32.29578032559011,-40.114690484828245,-42.81034052470344,-47.7035802669232,-33.05025147414138,-17.14243840615106,-18.70627410482755,-37.72861955196178,-39.17506975695134,-30.85187884281238,-43.52787692304673,-23.267186587007785,-49.05418925231594,-31.045944118958587,-27.44389230884699,-40.198743435709744,-16.499888588124794,-46.30720520648314,-47.34551401970306,-40.923464790684584,-40.466248686658375,-24.36435635396642,-36.67341754427598,-48.433634021626084,-27.24438030741808,-54.01340707208542,-9.208135817431103,-19.460969693895382,-26.96042178952638,-35.177023205059776,-60.26055297656146,-35.173939175360296,-35.827410754308005,-33.77278939534244,-34.32818670395435,-15.844036701211776,-29.108126353503156,-10.611404131376341,-38.851771019783094,-40.35229834980845,-50.030084828655745,-41.15386442740339,-27.657489516929417,-36.67182559540561,-34.64787571372356,-32.891697538641104,-25.697833737072223,-44.37749634037389,-14.812571951595846,-11.055335279849553,-25.94131028878265,-40.544021915368496,-28.28619459539623,-25.1724229633808,-27.044936488501484,-38.36439695564205,-23.998957632260492,-25.321228624218165,-28.17576938536293,-40.68474022578107,-37.1871120582746,-44.15072158358346,-43.298367898246106,-57.7093802316367,-15.907602445733398,-20.516582851338764,-29.47814401088162,-23.163873764648834,-37.005090968775605,-49.38528500322491,-36.36991154750297,-38.97720623478544,-29.560287930384913,-28.281664807700672,-30.543745960453116,-49.550412386327174,-26.878440717447383,-46.3666003954728,-41.14067655320935,-5.804583527588906,-27.317952124602314,-18.31380773615187,-38.748070150791534,-32.293425717712495,-11.856064951525326,-46.450344834206014,-51.6657394492726,-43.53995941980845,-50.50872984536075,-18.2836849660786,-27.355123709318605,-53.47404072161828,-46.8187119000132,-28.79943783748157,-52.80734837882084,-43.14959962248419,-53.043641627897834,-32.67227228801341,-45.32904788317064,-39.00330937890902,-33.9422772776432,-49.096704536385744,-49.18110696676529,-36.86287268491661,-6.693735377179137,-33.99854323914891,-9.457482318564466,-20.01303041991457,-35.488748611121,-54.437717551870584,-40.39197742140567,-34.511894283793346,-31.32130256988472,-29.140679674847537,-34.331665082917006,-44.134702401862086,-45.825849961419294,-24.044990265765854,-26.501188267058097,-40.06943484854023,-31.175982125215352,-17.307784035405586,-47.8388630676652,-48.2988273571176,-43.52156754394581,-37.71728219529668,-40.89921653342328,-25.46635112735219,-52.498910090820516,-44.35322824778861,-8.207215701059209,-52.60168856811953,-26.943728638896133,-38.46997927231679,-35.7605234424358,-30.42999054280867,-12.769319233177768,-22.28697870800364,-28.867454518190797,-44.90819828831002,-35.729636760466555,-36.09856932160662,-53.34148069164666,-48.34755841205476,-57.36246760621048,-35.876866824247735,-19.988007385602792,-31.287918929934413,-43.55244043994742,-53.2644367927431,-41.07711942263753,-38.68558192548462,-29.937821637979948,-24.413497237843046,-16.52116360852613,-25.71032360860225,-19.134138431767305,-27.98682141235499,-36.44653866825615,-31.28863769085105,-43.56406709248501,-30.060052677196676,-47.82740446946959,-27.52814752259795,-38.93225975402862,-47.5686687661805,-46.54043723056033,-46.005961095893625,-19.170945361664284,-44.253452502863354,-12.109611935772861],\"xaxis\":\"x\",\"y\":[6.705479059435725,28.20270044967391,11.550320302920165,-3.407816524430359,18.720772552191015,13.520097075600413,37.65038742517072,29.282251051944318,16.824724201592673,8.646100612399835,12.367450092379519,38.0878774974121,2.6547129863778927,35.2223589248262,21.554128436500648,6.890087616878716,17.625187174049238,19.92152979268519,-1.0676279188164233,20.414083573922138,33.194873813651256,31.262831413965028,20.098170124213574,7.921651376942606,-1.9070703608723079,-2.297596261121762,8.149248423527778,0.7116671782221878,26.18048018785448,12.146311826782528,4.039739763873522,17.385749652589105,38.063438038964364,-1.4275511711934221,46.04669821312202,32.52101017771872,19.27439299689827,41.40091651978878,29.050739666588505,6.717905989993205,34.71809945362898,24.076957578803313,8.89690661190385,-3.180840299549692,3.1231850388563775,31.55925672458542,-0.2953248093796379,21.920246266996596,13.113801241133746,11.77625947774928,-1.2088766561320397,37.87277776595715,33.74667075213117,26.897958159444354,43.35803379614812,26.986295972257096,31.535254708602903,22.359749979476266,16.878389318944922,31.410030984739564,0.7335596620655415,10.749392683427057,7.572416511137445,31.64420030171195,40.97721240852532,16.794267456443343,31.798755487292347,15.923610585889147,33.665839149741686,12.81348491174689,30.282036826430982,10.96366027976081,11.355126160967679,7.729466926055061,25.098859243416296,45.61557267758725,28.647610771761112,17.75118992232104,19.374986825254656,6.179285585811494,18.053288172073735,18.874086518943848,32.90474955470603,11.305945736030587,20.8738510960429,25.353806031345325,27.50518383817486,3.9664163962972845,20.162542083522666,7.620844490268847,35.46595764180752,28.845371427325915,40.706274661950175,6.924853719841227,8.224085238562331,-1.5642897963064544,5.090471637852203,9.663221382268286,13.642778156950618,29.014672576021365,3.1365562122471458,37.69134044913633,22.45422468125901,14.092190549486682,27.01681509575644,29.235111998362964,18.177807683487107,5.3109334984747925,21.08851119832919,24.30093160684645,19.42148437513199,27.77472660421832,30.527926360271312,25.75830143661386,19.475293390499804,38.03890215971477,27.654946654584435,10.623757621064035,13.098821209870758,30.07333941750346,25.079548195727156,41.768029554369505,31.882863163802956,6.5383547662011585,37.629851963162366,16.64741418997503,32.62674194311809,24.68017511702701,11.721695612818138,16.630769283397836,33.95856845114093,-0.7442766210674778,18.218069942927016,17.435940411395357,4.962445607595498,32.07021316700366,25.011300267421852,19.24405467402136,32.71368042619508,4.0181843365146515,42.982796694669766,-0.45701367506735263,10.194663638285203,19.221761601560107,5.764214791598129,32.68629219481345,12.10962274258696,25.109787581462985,14.627634039982036,39.07151336900412,2.0786699108843005,23.776194567223676,14.203739155017802,9.566637786162724,10.871719709304209,33.63118154688357,19.870613547196523,28.793662539463398,7.977244518669806,0.24089180110398553,8.882373999337156,6.629227848157287,11.926655519620454,34.49857954766199,40.402572862435235,18.370332111261426,20.51767170161506,21.306169396432832,26.410962902977953,28.289469551553974,0.9386557375062989,10.233799287237407,21.220158246060336,20.99325442507509,8.227098666619751,13.928698826996163,27.49435334557373,34.56070440410083,23.41749544146147,7.603143768998738,27.471751749957615,49.21461520254258,7.179857754679816,19.85591798058428,12.473859819152297,-0.6884020119011216,36.109105131871246,34.156301897153114,12.823125237968013,11.098762942474957,2.263882439977261,35.802962475869045,33.81705370604227,7.403852510042573,10.45756140604475,47.74992667067518,-3.629362344886664,8.50538598857701,24.201808943680984,-3.066635616073041,50.420228577432695,16.447302885987153,43.94368570183842,13.44589601094682,8.317714380373097,39.91872511346149,16.105002160136955,23.36158200059407,-0.8944206172539805,15.931823555287256,2.330815969418551,8.354128366151057,19.797498460616453,12.498905191436542,6.954323236785311,23.4185109226584,40.28717609193947,18.072518248127285,39.32089890511644,24.834785097305446,34.75950196470106,26.30308543896544,6.4228967147513405,7.32091725156628,1.0299302757660105,11.657066771075522,0.5838365506439624,6.181673652916797,16.59563240991402,3.9738096630308166,21.43903670672771,34.20815610985172,6.1442382368685315,23.236872672496062,28.54235509819835,1.6851431629961091,23.044959841949833,4.537320841826269,23.790487151344458,28.089067460030574,5.652964424205403,29.939564142930433,7.707384387758984,18.366169242792992,-1.6724186942460426,32.72275511676081,24.88486164958303,5.478617651377453,-0.3974893178961248,33.63636545029903,21.980482973784436,12.068260932686089,35.37837233492676,34.02866092861644,7.496647281901935,23.51491520181131,1.3005122429484894,3.566791812108929,4.504118252925924,15.862534373741138,7.930584900755428,37.045630573918906,17.919095548844286,1.4463600988492264,23.801765735295078,1.4186777763683165,-0.9810390262432063,11.486669185659588,23.2569128731699,38.96044856619874,11.39419137963778,25.174440747762173,-2.810969503523606,19.130847918597002,15.676719248793153,35.507592446212485,12.352600353066144,36.83949071933083,-1.9920817862910665,29.788326272669888,38.840732700156885,27.836140310021918,30.424616522478434,39.42112030828514,35.136014701138116,14.367223427538896,9.69355774347804,-1.5502184423084775,25.699759444525455,27.213460538745554,29.191835217142685,1.6021903938165518,3.821036574315517,22.576769020608808,14.75110444008567,30.107546378092024,27.892701412767398,38.57892910766357,30.840280115609982,2.7389472142376285,1.383976098504788,5.0871461256828985,28.727073157805453,11.3562619655012,18.552936197193972,3.5267719235474364,36.49996645841631,37.540464063980686,21.30868058176831,40.70929808389055,2.292735564446401,20.144040813796018,21.458596299757172,32.404671321806596,7.228777378902081,11.000595843870189,19.358667029683946,27.094380165433005,31.43738439278207,5.748431627098317,6.540875936482907,14.368060257893205,11.72621030367951,17.157950099089852,0.32339619109329665,26.64748880528583,2.3759958066653297,10.523557672887483,27.222714725766767,37.8447713982821,17.19490170732326,16.991606351230203,7.749103678505474,19.422276074230197,3.704536278963286,17.750658049745702,0.7594405873510373,24.8600614590398,12.524504806110501,34.331536159692426,9.560562283625261,31.102580953272728,10.320796994207333,2.3330151286645697,25.195606645575854,8.146185471086943,10.67872845209303,4.561702284708808,0.68877509608721,26.422836376655173,10.48722376469506,-0.17009744115570324,22.48390106214767,28.389765598610815,6.94862480226194,36.48325894152466,31.859037306657203,10.033130962055425,2.9283389617876163,32.46134322568836,3.6886166192797036,13.493924081434358,21.90025905791691,5.35772265814572,27.131222764000416,35.21705654134877,5.008781589700545,17.494209115605383,28.969898901005703,-4.785285659049692,23.19272830328397,34.00834656349394,22.71940915356889,3.48226202069916,31.663505212762598,32.21307174157539,37.60775385235902,1.4564207221253493,15.798841961378969,31.470205598756287,10.342491436870715,23.631393810885072,21.985175259036232,46.09932300127636,8.12036448131756,16.29697203742785,36.4131812323437,-2.5100975406071457,1.8778777170179413,22.68799220190221,-1.6887583198338805,19.06196708696085,17.839937360709293,12.333460528330912,24.119396531312482,29.192937865556157,20.10439460095404,26.667665664563238,7.032654213906101,18.34887517463454,22.086541581639658,12.257522588245095,11.417749828032251,12.599992441073855,7.042340160651914,29.597181779364842,13.88469380666201,20.51566317410777,0.7987219903777087,7.935507513781247,15.152613918592598,26.92999489757566,-1.7704974650780927,10.836567760510055,30.57895212945059,38.59954723724609,9.797443152832972,9.07642474032908,39.92386444382635,27.69992913047837,32.49339195519786,17.811005179517455,1.116713605901725,30.349202401171677,5.32706171657507,2.956308061768003,0.213687675696993,17.195946263873722,31.03843963638365,8.768066898496285,14.00453842491122,4.678065508506746,16.24897708739894,22.190598439849143,13.838781308162691,6.950270855040484,23.499758663091807,7.985476393472627,13.394872852891787,30.001765990862015,27.035029365806302,22.122260911276822,11.435361067508296,38.46020181862276,14.39305913224841,18.312408442105777,9.037060741225957,28.619831555776074,29.509805242218235,26.153872476866567,27.2469625528093,42.338755405964676,8.142019370938687,14.15276176254584,-0.46586778900708725,14.600446904476428,29.864669806016003,0.8961265123135905,2.0030632833497966,5.782105729963395,14.696923350691273,16.830384494577057,-0.6049419556063294,4.614776234761258,9.872230349972007,35.392625499507545,15.773116922821302,16.766196688456443,-0.744840458838706,13.611940242685174,15.17979850309351,14.932475856974852,32.958353416201454,13.581178180286567,23.679978076266174,26.892739329108167],\"yaxis\":\"y\",\"type\":\"scattergl\",\"textposition\":\"top center\"},{\"customdata\":[[48],[43],[38],[34],[45],[46],[54],[31],[42],[51],[59],[53],[46],[32],[72],[38],[57],[43],[47],[50],[53],[50],[33],[44],[24],[29],[44],[56],[46],[54],[44],[59],[41],[53],[32],[58],[52],[64],[57],[64],[43],[59],[31],[59],[42],[54],[58],[61],[16],[45],[28],[42],[50],[48],[41],[25],[68],[53],[56],[55],[41],[62],[42],[29],[53],[40],[55],[13],[51],[33],[28],[31],[43],[29],[61],[39],[56],[62],[59],[61],[47],[26],[56],[71],[55],[63],[64],[47],[51],[66],[43],[53],[50],[59],[42],[59],[56],[64],[38],[52],[48],[44],[28],[41],[58],[31],[42],[55],[52],[53],[24],[45],[39],[54],[57],[39],[52],[57],[63],[67],[45],[37],[29],[59],[62],[38],[34],[52],[58],[48],[34],[48],[58],[18],[49],[68],[30],[59],[35],[69],[53],[60],[58],[68],[40],[64],[36],[73],[30],[48],[41],[50],[46],[37],[28],[36],[45],[45],[57],[42],[52],[54],[68],[57],[64],[55],[60],[44],[55],[47],[59],[37],[56],[55],[59],[43],[52],[47],[60],[63],[35],[59],[44],[35],[43],[66],[49],[55],[45],[50],[59],[34],[64],[26],[48],[43],[50],[34],[43],[42],[25],[65],[29],[44],[45],[55],[59],[66],[49],[60],[53],[28],[43],[51],[47],[45],[59],[27],[37],[41],[63],[43],[45],[57],[62],[48],[46],[43],[64],[57],[54],[43],[23],[54],[56],[38],[39],[42],[60],[31],[46],[32],[32],[62],[68],[39],[44],[41],[63],[40],[51],[61],[80],[51],[51],[36],[54],[24],[58],[20],[58],[42],[47],[55],[57],[39],[63],[57],[59],[46],[40],[58],[33],[61],[63],[49],[58],[52],[57],[61],[64],[56],[50],[49],[52],[49],[55],[56],[55],[37],[39],[40],[56],[66],[42],[39],[50],[50],[47],[60],[46],[38],[54],[42],[52],[61],[53],[37],[58],[37],[59],[46],[49],[62],[40],[59],[51],[46],[27],[38],[59],[40],[66],[47],[49],[42],[58],[37],[21],[62],[53],[50],[38],[33],[31],[47],[36],[79],[43],[60],[40],[45],[30],[65],[58],[49],[15],[47],[13],[48],[60],[40],[65],[43],[44],[48],[32],[59],[39],[42],[55],[62],[55],[41],[47]],\"hovertemplate\":\"Cluster=Cluster 1\\u003cbr\\u003ePCA1=%{x}\\u003cbr\\u003ePCA2=%{y}\\u003cbr\\u003eFeature=%{customdata[0]}\\u003cextra\\u003e\\u003c\\u002fextra\\u003e\",\"legendgroup\":\"Cluster 1\",\"marker\":{\"color\":\"#EF553B\",\"opacity\":0.5,\"symbol\":\"circle\"},\"mode\":\"markers\",\"name\":\"Cluster 1\",\"showlegend\":true,\"x\":[33.77148273680893,19.848995185820467,5.205497572039128,13.59827378661628,-5.689137825951748,-9.867742424317035,-0.9149743757200167,13.20265436147369,19.606821693671325,-7.443619709319082,5.709168833703749,17.655473552628177,2.3117239968972787,39.89176663588804,8.384150733642855,4.958346296689903,16.348474993367283,25.330698587809085,15.6927337833745,19.320578005186558,-1.3249028156523506,16.27765569400009,-7.362172401719613,30.39097326087467,19.630137632298933,19.957586080802642,-6.693998464031504,-3.4249179378725043,3.885997478377963,-12.773735839753876,-1.8200401416933971,24.51841539155075,-5.354578294418038,2.069362455282577,15.701779869464287,-4.775533639147144,20.89152080641587,-8.826978406189701,-5.332379122343375,-8.747702886513938,13.055027431840642,12.749175763211918,29.250746754983858,-8.791686179658168,13.733196161417032,28.8409839272091,-2.585634794857456,-8.35909784118346,46.96445983960299,9.629756166630754,39.09964894997851,9.57458952382312,0.20858523089698344,22.002681132792585,19.904464928851016,46.57903057170875,-2.5073554503596003,-1.7720451064971006,-11.58514648428351,19.04732320454325,0.7852613825097372,-10.225481020775664,-11.23648159930467,19.59619503716685,-7.263608577531277,6.976671785041529,31.331769388367984,41.41844658623452,5.418627893391598,17.630787607322837,3.7076242727340407,32.19092810616578,3.285889335853723,27.59518866805911,-5.668200969520842,8.794938305009813,-0.23054318377450253,-2.941753646495733,-3.874033424220676,-0.9396378097704405,0.0762445047815399,27.16853823003804,-12.846684931977789,11.375183917231874,-6.3233506336799605,5.035168667164379,-9.517536188075322,2.8892499961414906,-1.403110356210643,-1.000651253406129,0.24891532780400594,17.533454666934297,17.662169988566422,-5.2679143482651565,10.995135690725597,-2.683874755198952,-11.938221733841193,-7.512714672322366,30.898146061053403,22.805208226619154,21.31249209514422,4.228874636172407,32.99711850611346,-2.1739793267753695,-6.3328651537429455,-0.5068684410525468,-6.877783553891019,7.033728247529464,32.63324171578928,-3.431401132404655,37.64770977019529,2.582926966047632,27.19412987564044,-3.8849051899116915,-4.406465739541435,21.468328174189388,17.23890533968309,-2.4985729813601876,-1.26629532182584,1.2168276331664292,-2.2834185053530724,8.381303586935353,35.810877304160265,-7.076222239738126,5.0937328850368875,-3.790850630992856,14.639301885950376,24.743341034002775,-11.182647922944538,-10.141799519202468,20.703851711502914,10.207402507401088,-1.835413022198686,25.023670911957886,36.27164611845847,2.761709238743715,7.830909172514069,8.136810407775721,-3.0823860584651053,20.545406309430298,8.837473719409328,-10.014104687356465,3.367631943849237,10.769952462073796,0.6405615072077614,-7.7661075423881165,8.690825002662763,3.1421453177269387,22.822606738422557,-6.595771216786318,23.61306583632189,-6.067449059795848,-6.200941003513726,7.4413028498328595,22.001354957861807,26.655024590596742,34.64256707191028,20.79397697860003,-6.7082961938261345,38.10758633704189,-8.99648056650175,22.05578101332751,22.53080408108881,-8.941802463859934,4.157150498398646,-4.94719172669499,-1.9500696432545879,13.478793472036529,-0.17074444637317635,21.834145724528668,-9.039781888423473,7.930743168253249,-6.382869810379288,18.847395180469398,-1.5348898932311295,12.362562560846062,-15.630666509650478,22.45605909921648,2.4088688310732698,-9.63250944744198,31.17633630425279,-3.296952420110159,39.36919295963229,1.7470796504593566,3.950711250235425,4.885340761882875,-1.704454115254587,15.479188309923474,20.352386773814562,13.482330278709586,15.907297447603659,2.3723130524511347,-0.20176932212894744,4.070003088147013,11.945503316600847,4.513771490689229,-2.6426109815854395,25.314681943337206,7.1930489818815095,10.354783406511748,29.20006498518688,-3.7843605421745625,15.780834276251323,37.58387853559718,25.20482327685676,-4.390036241305952,25.569086474329012,0.6476227542751402,-6.716774462785202,-8.079353573337801,18.274584442326525,32.36566834921058,25.885494538665515,4.8339106478909075,7.346120219870029,9.78925976391988,-5.512729888134772,39.14733409698145,16.41897276663373,12.045464460161606,-3.685312312958163,13.530527909812523,7.6773305339290365,3.8711845235939504,-1.9159635780952076,19.432753113640842,5.329777347581464,10.261416451405081,12.804807562264584,16.0899222029342,14.548675565542244,18.08816038101151,26.85156060495104,12.045016713386186,12.366694486044816,3.4333134779277983,14.526808926338974,-1.550166210043292,4.4051658336903925,37.07210839598806,31.035301078858108,25.16572632761565,10.193029420282956,-4.558990422809262,0.38737553997151997,21.504550604836133,9.6955881709804,-6.571160927319865,20.53886360414439,31.30679339254451,-2.7614498301201156,16.972238360725868,20.04768050963871,-10.760021740600619,23.403789579782938,19.257999482806483,-2.205942996215314,29.41994246163315,20.299294279875667,29.761369901357547,-0.4488076956181441,24.254957409188492,30.648778533459332,25.744789609606197,-6.129554413342415,14.734241401290028,14.154016287010323,2.979001168318133,0.3601417220652427,26.915462682186543,22.352162633909643,24.196251343480156,9.002561197611445,-5.187350798430715,-6.484648000505751,-8.179039091791275,-7.430337931181643,-3.859240341121906,-6.666769415008014,2.3989263888741004,-1.0140872584523233,-7.525327379270195,-11.264621578943803,2.2622637046163967,10.683455238747953,17.330492556319136,14.483538751514214,4.02968521181846,0.8278005874903362,21.614122219588367,13.975573212030186,43.086076690518354,-2.256667398338813,3.635418606872658,-0.05010217903090428,18.89634528016269,24.546470174547945,12.631817370903493,16.814426888736406,12.810082393534975,9.019280303615002,11.361182477234005,-3.347790805568741,10.608937086031517,-4.231488749712104,-6.94016877412744,2.0936763420652302,30.897002041454023,-10.122111203082152,8.024192417138517,4.383442292688298,1.5855363005396528,15.376906713650282,-3.0813664591716425,9.487018220202987,-14.08764927109916,-3.346843022077858,15.681858143225107,25.29059349388188,32.537989313443504,2.8732347379524303,1.3570699094730652,4.213154759445603,17.01751018791142,34.037565792262086,23.10859434812389,-7.5112384613933765,-0.7325985661198118,39.6985253245817,1.4769351043293606,18.41930609677777,-11.898744656597614,1.6070797932642633,21.35724761114442,4.280094808628907,-3.2521886268488367,1.8612365867080343,9.298723107915686,29.021309423522016,-6.014491972328669,18.831656394679353,-0.8687881065655143,28.8311113841556,-7.499149898894596,-5.602683569211328,3.615065815146052,24.928146063211617,-7.389904804986851,34.11676466744413,37.4980481748351,-7.13123010167127,6.356947733545141,1.2387343141850136,30.416476196052404,10.698050626271499,-10.70046297789044,32.255658971606245,7.519136647311713,-8.366852404914031,-1.8882201164039771,-8.562589662296899,-2.900986314094335,-2.2617115840340953,-3.646169372856958,13.911493116088556],\"xaxis\":\"x\",\"y\":[-14.563466579788322,-20.35676285673187,-33.10273304134332,-14.95179932259396,-26.441669758267555,-17.674089744316102,-41.795733037753905,-52.067671768571735,-44.64207889730967,-18.766190663057017,-6.580309485679615,1.3013563614545,-40.87574823985811,-30.713499236521095,-28.49048753580789,-13.67801082939763,-8.023869564560288,-14.550362436134849,-9.21940203339652,-17.009685223763146,-9.087863383259766,-9.50783365365269,-2.3210580583065115,-24.53175883322033,-15.182313126193764,-33.559191322503516,-19.074943597823648,3.878327816467312,-17.520041178746997,-17.717696247823934,-21.638114091769406,-22.521176347545314,-5.163098402436561,-16.498301059524053,-13.53946613904146,-5.1833888238914545,-13.492340367273284,-39.114943742034036,-36.51011373140282,-43.01920845586274,-29.898229856121997,-27.018272098831652,-17.94329638965202,-27.94534410969638,-22.712292591601543,-12.707964743090875,-45.75707771231441,-7.158867865167485,-24.985247701626548,-18.55179924544844,-14.453018798529474,-28.08435364747038,-19.3080901962289,-6.844235105422862,-41.22632542846872,-26.927915385160922,-41.4088257583635,-9.078898690932267,-24.04418809042937,-16.76536498288724,-20.953701089393874,-37.71407414062354,-9.171253023746356,6.444512578749394,-26.99971498240668,-34.92286589833906,-32.065408787304264,-17.56853583504775,-30.808884896530568,-7.476435996446177,-14.673817986775495,-4.37510938908579,-41.08771086174697,-12.722697659898925,-42.74798559766258,-2.1783642290578897,-19.734076580113765,-40.63645980082336,-36.29407210956339,-55.008195465048615,-10.645646693024778,-37.13615260962447,-5.771989546656828,-31.411569480420166,-11.539893898405069,-21.96413178063824,-39.438400620052164,-10.196387522059366,1.8511131794125124,-15.86355208526367,-12.39494246070856,-7.537015306509356,-28.117062326946407,-25.81489756260713,-32.59220491671222,-44.71808961597073,-17.996666270451172,-13.903780065098083,-7.728794868176002,-17.270521200368425,-30.767003333484396,-24.52420625166097,-35.103497779038506,-0.9214366264295364,-19.225477701816327,1.1606467794961088,-3.3469997089811603,-26.828136941137355,-18.806465600804785,-22.321168268093828,-42.37785390861804,-12.112457483917867,-27.83386140674975,-10.647447362492787,3.9805609281961574,-25.205363796019,-19.039100043358296,-38.05425176923238,-45.29369392454418,-12.539350548282492,8.241447017332128,8.023906562157151,-24.137525891150016,-36.39345097259953,-0.0855719402995017,5.075066947202529,-45.11865918274812,-30.053384458272067,-26.94499411882889,-13.258498314437201,-46.23829289309505,-53.98246186909046,-25.677411771502825,-29.47484825268856,-18.007019200526404,-1.0954911249196713,-23.855626558254,-29.771776713097186,-8.87653777917473,-28.095383988499627,-18.473989046906908,-31.76771918551689,-47.534106152749686,-28.77197588708608,8.441384178368153,-41.533506719857826,-33.00696491123082,-44.8338550894261,-21.919832774715086,-18.210981841090373,-23.519088728379444,-29.697569723380475,-9.37024302862585,-4.239246557283016,-13.53621730330363,-25.559572898792396,-17.807533919788938,-9.5379307301085,-33.39529050478375,-31.05054374181349,-9.48147973914682,-35.72474760871122,-20.103996297303787,-14.668665305388362,-21.024558665466667,-26.625508772980695,-22.232010734663813,-21.314007842184324,-44.07705791707305,-28.738072957283045,-35.3171427637618,-26.544189287335996,-6.970361223360212,-27.17723580640246,-10.893558682627303,-26.08285588289639,-11.750204700485908,-17.57203790024992,-43.06384677218698,-22.965886351386114,-24.014394693516763,-38.59203092163407,-35.85034248669473,-13.872082819233363,-23.423592815282102,-16.34852949001886,-11.085010438716774,-40.02268792221481,-13.499601780782552,-31.261786064490238,-19.480600546403235,-29.68578501327386,-22.415208164239615,-23.666179857200987,-37.82593453390091,-42.05110929055109,-22.966110312673198,-2.5157645708500502,-33.985314845873866,-27.02012871787687,-29.07160497102155,-9.761989847752382,7.0162842873451945,-18.507956896889983,-28.00128391091963,-30.612924790701605,-15.553291873388398,-9.003841930637332,-9.610188626614374,-33.234836782813574,-8.651731674572043,-23.631086050544937,-4.97228747068025,-45.550962932012354,-2.1421046325822144,-26.48745925149059,-36.72166645639136,-12.520737493908399,-31.308317569022403,-20.508633726861806,-22.617736041907285,-26.20443775766107,-43.744785447137915,-9.519223445499552,-47.64116633376463,-26.757545423383252,-31.96183256111647,-10.60552266102083,-10.381778054586821,-12.168988274661015,-16.35420129927246,-14.307375142193797,-33.73212004764472,-0.023934805694371616,-41.360363730855674,-22.868816868614676,-18.5533302217283,-14.291446315751529,-43.01349907323825,-34.43803038723321,-29.357299597170815,-2.708829367030194,-23.637004873840294,-35.38279401317614,-12.541521364996983,-5.603349880289012,-28.48303952686579,4.190310953043184,-23.88535652438059,-25.99313326716844,-29.31696153977649,-36.35918533354959,-32.41086979373227,-13.1421795243577,-18.586937202182213,-46.44024280074354,-23.824390661730586,-22.793564387276977,-5.5965960341741425,-45.32564587394083,-14.343627583201588,-21.15268976603748,-27.87134050232273,-13.060106308807898,-17.855029857792776,-31.060640456340064,-3.458949372138832,-49.18491222717079,-1.0825680760849417,-13.936486857286425,-23.656063518486274,-29.62497370389191,-40.98337219282321,-33.7572597258552,-40.08047737617996,-25.353648329971424,-22.210399823515043,-24.19075523536574,-29.813126698026856,-17.481164738977768,-48.61994942269253,-32.184265605283485,-16.05153626164863,-16.287385572868082,-32.443454504764844,-29.637512312914524,-15.408648968321053,-21.519311469395262,-15.784168098244116,-24.277666733125717,-47.7190813861645,-31.604333500705476,-43.501331979727816,-39.35356353366011,-29.033954625879442,-22.2953452658406,-38.29889164431645,-45.697743095443535,-29.404021787738376,-33.07833052954182,-23.21223921606268,0.410887800731603,-11.468043680826472,-33.45717826203192,-2.673013093841869,-37.74075957501281,-25.456766027516572,-22.124235720917618,-24.822565162224745,-8.324795723450832,-25.574274841186238,-18.973492682191402,-33.17530593145765,-47.095728347258635,-40.55083104892556,-22.67514812185607,-27.145122189925864,2.29671835591286,-33.47161000529055,-23.130759579977592,-29.504824420323438,-15.867918605940773,-31.980205495279087,-16.487084341945216,-20.906024349701656,-22.570506896450937,-32.45869342738031,6.417488239891946,-13.838452331681262,-20.451759308521627,-1.065684091274473,-9.95614156093225,-14.504212823664458,-54.579384186595746,5.506807731808517,0.03341144056264748,-30.861954502134683,-26.888187328419118,-23.21321218518427,-39.406709961060024,-20.79475214753867,-10.594910485959527,-46.709228428442664,-40.96338480248953,-42.17453133176198,-1.3882267103669108,-25.720301060975103,-4.809468101001907,-32.02634704415075,-27.632253635747656,-9.247922383888481,-37.28236348633332,-6.452715173296752,-41.75127133224919,-1.733229202067474,-13.597086688555082,-21.29421812455242,-28.87946560644066,1.8262460877949012,-12.227492898734496,-25.414617798916005,-37.73650406991356,-37.91841991286522,-17.382690908355258,-7.387058772618243],\"yaxis\":\"y\",\"type\":\"scattergl\",\"textposition\":\"top center\"},{\"customdata\":[[75],[81],[63],[78],[73],[71],[76],[95],[70],[82],[79],[74],[79],[87],[88],[83],[77],[75],[87],[87],[71],[89],[86],[73],[95],[81],[69],[76],[87],[76],[75],[73],[65],[69],[92],[92],[72],[80],[96],[89],[70],[71],[91],[85],[80],[96],[67],[87],[77],[73],[97],[90],[73],[91],[80],[91],[70],[96],[96],[70],[84],[71],[67],[91],[97],[90],[67],[72],[86],[83],[82],[71],[76],[83],[78],[72],[72],[76],[91],[91],[69],[80],[76],[95],[55],[97],[69],[70],[92],[77],[95],[64],[85],[78],[72],[56],[66],[61],[87],[93],[60],[96],[65],[97],[87],[66],[82],[94],[83],[75],[81],[85],[76],[90],[68],[71],[71],[79],[99],[79],[77],[88],[85],[72],[92],[87],[66],[83],[73],[88],[93],[73],[78],[77],[88],[64],[94],[85],[93],[71],[64],[66],[73],[87],[95],[66],[87],[87],[92],[70],[76],[90],[83],[73],[82],[84],[88],[65],[87],[66],[85],[61],[92],[98],[83],[76],[77],[94],[84],[81],[88],[78],[88],[76],[94],[79],[69],[68],[93],[96],[73],[71],[84],[97],[76],[90],[87],[75],[85],[64],[58],[89],[97],[63],[80],[90],[62],[93],[98],[84],[82],[85],[74],[66],[88],[84],[68],[82],[87],[93],[64],[82],[71],[81],[93],[92],[84],[67],[70],[76],[62],[75],[70],[83],[68],[66],[70],[94],[88],[91],[84],[74],[93],[82],[91],[87],[78],[83],[69],[91],[86],[61],[91],[77],[87],[78],[91],[98],[88],[91],[66],[76],[83],[89],[89],[80],[68],[94],[83],[78],[91],[96],[81],[84],[67],[65],[72],[92],[87],[73],[69],[73],[69],[90],[67],[84],[70],[74],[83],[79],[84],[91],[93],[80],[77],[91],[72],[80],[98],[64],[76],[89],[86],[84],[100],[84],[82],[99],[95],[95],[72],[98],[86],[69],[70],[92],[76],[62],[93],[74],[92],[93],[72],[77],[80],[74],[75],[93],[97],[67],[91],[68],[92],[77],[80],[83],[68],[93],[98],[94],[76],[73],[71],[95],[67],[94],[82],[73],[69],[79],[88],[72],[92],[69],[76],[66],[74],[83],[73],[79],[93],[87],[79],[77],[82],[66],[95],[88],[99],[78],[77],[90],[80],[80],[90],[91],[85],[64],[90],[81],[86],[76],[92],[66],[93],[66],[94],[74],[72],[74],[67],[72],[82],[84],[68],[77],[96],[92],[76],[68],[93],[94],[71],[72],[72],[74],[68],[70],[90],[99],[92],[73],[81],[60],[70],[77],[77],[68],[85],[79],[81],[69]],\"hovertemplate\":\"Cluster=Cluster 2\\u003cbr\\u003ePCA1=%{x}\\u003cbr\\u003ePCA2=%{y}\\u003cbr\\u003eFeature=%{customdata[0]}\\u003cextra\\u003e\\u003c\\u002fextra\\u003e\",\"legendgroup\":\"Cluster 2\",\"marker\":{\"color\":\"#00cc96\",\"opacity\":0.5,\"symbol\":\"circle\"},\"mode\":\"markers\",\"name\":\"Cluster 2\",\"showlegend\":true,\"x\":[-11.068102385252995,-21.759860456938853,-14.697006188627643,-27.77143923557431,-29.826856737087766,-23.005450664539236,-24.50256132703705,-33.825093826173465,-14.531611147115905,-30.063928085095743,-30.172319168185926,-14.510556954369838,-20.105298749050757,-19.846008347892823,-22.869679841956,-15.493247206493933,-19.294941399693666,-22.251394419069168,-42.37114467873864,-20.270615551607037,-23.61078876694527,-42.20037595245379,-27.43592424227235,-22.741989722274266,-41.66026489380211,-33.41766555391301,-16.805811999360408,-21.710840130991237,-34.70973229027089,-27.427580503556484,-19.68477300125683,-27.303736735933665,-11.541545792866508,-11.069690317028815,-25.141540016235936,-40.30513246502238,-25.563864470170085,-31.918777466232996,-32.55471339342623,-30.524747989796168,-15.835338533150939,-14.188646993726083,-41.579590393162654,-31.250324492749574,-13.437956632411955,-41.20787826781814,-10.922777436242736,-37.65092094377935,-27.910203515344765,2.5255824126855924,-34.37301402903849,-31.041095497978212,-10.304513120385986,3.1904269076540475,-33.94621080563619,-26.707067459484083,-26.94891444081014,-33.62863483965914,-26.335289541345126,-9.8125024018633,-28.727160192161545,-6.185275652154845,-19.868866046039106,-36.7273982328081,-41.985296085759025,-39.572657640318106,-10.408710617433261,-24.65970901010092,-31.558393299138963,-30.63635806014162,-33.725584981283475,-10.959309779691857,-31.08810945846797,-34.980667689739306,-22.001185358434828,-30.006269666558968,-7.073008812871489,-30.018401120731376,-35.68707912193689,-33.28804498829585,-11.631922099408728,-14.110926069060717,-25.571559734696997,-33.627478809744126,-17.96407474064962,-32.16691079936021,-12.173168563364088,-24.425401545524746,-30.590386733682557,-26.88935461062552,-45.38614445619939,-16.483394530598936,-27.50122754495803,-23.04427786472647,-12.212269552158029,-14.439756140500137,-23.85959348058003,-16.386256960117482,-29.3086917736509,-21.351554281192584,-14.572836672711562,-36.38034011188169,-18.347223464110133,-43.772999211939556,-21.010186050207896,-6.889503899146298,-15.433495237166406,-35.94848398837155,-16.646134992920018,-18.670399464137123,-17.195603846176105,-16.951757433996107,-19.824718101058945,-26.438462591348976,-20.780387144441768,-24.628646444397813,-14.065338326250954,-23.043879352434555,-28.615228735229636,-12.524597030415052,-25.764823690416534,-28.905580560382827,-14.294387983705604,-16.924887685708246,-36.672734575634685,-25.23364968219772,-7.3649725379188835,-23.492246347025205,-20.053118981116285,-33.052895410520556,-29.507167281270142,-21.914662746111137,-27.4307419601262,-16.138814109538806,-27.338497334664925,-12.498402470515773,-39.971031883674065,-21.456541299881827,-43.670066598258245,-17.751091056099995,-9.099353303155976,-14.080782492485197,-13.969407315506938,-21.10391637932929,-21.922899894695806,-15.252216772492396,-17.4756373348811,-33.32015729855439,-24.34193162686006,-8.910105787728378,-20.813401998808402,-16.36499516947444,-36.62063050838141,-12.96134499343164,-23.724910477572013,-31.95108075576498,-27.032955586646835,-11.940091424849605,-29.80371836351069,-21.005386662198042,-32.48848129482684,-21.77455315504792,-35.80087891993426,-32.70563398339476,-33.9850819361452,-31.01537194042068,-26.825496304254028,-35.693829741100586,-7.248988987160295,-32.17585136253951,-33.65041042228359,-16.129979445754916,-35.64444414988942,-13.835569729488329,-29.145638743502147,-6.86736297556929,-6.856860427124514,-14.738161457659112,-32.19231863342541,-33.226608933946316,-24.29134233157708,-7.983489469717736,-4.993976224741375,-44.55432434372096,-16.239931937387308,-32.15419140503092,-31.502037323329674,-14.976183656672715,-24.86161493954161,-12.797478960365659,-16.64729181243904,-13.456036765270285,-25.568035530623458,-20.354352196969838,-35.76311863973519,-20.46305154794608,-12.491909157077497,-25.85575106903284,-29.51700167338568,-35.00038142643423,-34.30020274382185,-19.958785682829113,-22.308332102662863,-25.973156853970536,-37.91821900132543,-31.22972098115234,-25.20597869470792,-36.96867047933543,-14.584091778605211,-46.452351954752274,-20.172496714846744,-25.952615696583738,-16.312940048786754,-18.808169051086757,-37.19811430469157,-37.927837727043176,-27.167556915163402,-23.852757078994024,-4.496632937589683,-26.969117445330628,-12.88499405713324,-4.771365919443642,-23.393442413711774,-32.10559124301704,-23.30922528401022,-19.465225519368552,-27.105626497093695,-28.862652424933906,-37.64709517118444,-22.576127817806842,-26.213394848867733,-29.64576516526238,-0.8452907384800437,-27.907231742270643,-42.51839317829458,-42.28162739541388,-33.49416129592034,-30.755495962111965,-10.246482317228814,-30.655805640123845,-23.731498089626346,-13.020476119892335,-39.46272059592975,-7.7256334449889925,-12.033028307529696,-31.468345248762866,-32.46568782256745,-21.71552250124495,-27.426116516694098,-33.25440526210394,-12.040274293244654,-30.83812122054808,-35.772577306311284,-27.620871316673323,-22.97402759013994,-34.98288236331896,-26.058968906005774,-28.95685334723218,-26.703994754246725,-14.94378214099232,-35.364170132225,-29.602718769448085,-18.957896498527596,-31.886831579560766,-12.921352459513606,-11.96116444077631,-13.092363556951865,-42.629064248796674,-19.44513418342366,-14.748139636171587,-20.114640283452456,-21.69798232015389,-21.452412614157247,-23.60717367978577,-23.120157781823266,-32.282524333813534,-24.721632043751246,-14.010558259305979,-27.89540950340038,-23.39958804885064,-17.83622049694696,-27.585720013454527,-32.26288311814894,-27.750326091791738,-31.414005373795014,-32.02691294967919,-22.88791007896476,-27.71512974076006,-36.78660663807528,-17.295577676849376,-18.65453102685081,-35.734731925315394,-9.14937426367423,-36.99537104171645,-22.137273211970328,-17.04664942665645,-17.963933446881104,-33.16324651316608,-46.34290675336142,-37.56175217565738,-17.542340087308364,-32.71798902719993,-30.478905549975533,-23.346865412056154,-3.2230990341517,-20.898741205845724,-26.6599495018138,-18.351278300884903,-32.61049077794224,-5.294319582175696,-41.75621371031307,-25.426404360481733,-18.668981479072706,-21.28086320776788,-18.902748202260312,-4.979666995398145,-22.318465583644617,-37.18969154922832,-31.121581065327785,-16.32191770659635,-35.03247058145152,-21.889169611451745,-27.830811119154742,-21.90014534076204,-9.569204590864818,-36.107358448947615,-20.578417296863385,-28.987104970163752,-27.574733988454078,-31.346263604196537,-31.233064860714368,-1.4929565856143607,-11.909718680417427,-31.05821563091102,-12.909110612462177,-26.89846506528548,-13.626908229453946,-14.493378622637623,-15.192890425196463,-31.10441308831373,-40.92683414269626,-17.336838915019218,-41.96943768172564,-9.232284226507323,-19.51717167830547,-13.231531519551467,-9.834237650168626,-34.88622003750788,-19.094067160695616,-19.311307839001447,-37.113971698821494,-37.890746085511914,-25.164596752094248,-25.100415036801355,-26.433804311375447,-18.831880468874445,-35.0077623766623,-25.30659295897275,-31.97021760558702,-15.207511167899842,-11.161272526130807,-19.328168225503138,-15.510492546351859,-17.388807904087045,-37.645384669657126,-34.014925615508766,-19.10057445589308,-12.833517943975334,-41.12135663267807,-19.038499772992605,-32.062015397822826,-18.04001939120814,-7.469284222373964,-11.769003152251303,-45.110350664313614,-20.908629588564995,-32.517451681729014,-5.838153877451478,-18.391274857390766,-14.389723995106296,-26.800979839030536,-10.5798708591251,-21.02313917848389,-31.42879685301082,-18.146969585485497,-25.032652723680513,-28.80742475748986,-40.02685491900666,-26.293242540027993,-13.989020995084672,-25.434680399692812,-39.52646115756203,-29.834567309090815,-11.390143788427824,-25.817175948185824,-15.94214978941383,-27.105405587336254,-23.870896248328823,-31.028323424114433,-48.284120465746014,-25.190022957189473,-30.506294353995894,-34.010267365469275,-14.391867587956897,-13.053490005988921,-21.545080137708947,-9.180083297478003,-21.839718147438802,-30.444653500936784,-28.538905869900862,-6.373781722117289,-27.297189687983597],\"xaxis\":\"x\",\"y\":[-17.13583888174473,-26.061920862295565,-9.786786110777884,-14.60766068130086,-9.11946368602516,-21.278856295264436,-22.14181319475135,-31.085282260537873,-18.725814620987414,-19.312689193558708,-16.421990072196618,-39.981210508532804,-26.285792466727113,-47.16754861363582,-34.43160514438538,-40.66538116461668,-12.582581526441192,-8.567685416589699,-2.941338103568024,-42.99432570828894,-6.858423891074085,-4.991571348443896,-28.79468636450793,-20.30048148612077,-13.60840204626218,-7.364089346625267,-32.728980158562166,-27.119439695209866,-5.292233554047432,-20.00252550159935,-32.529963793851984,-13.157524325528312,0.8496559683719715,-13.250400083638752,-17.42478762815062,-14.662705897098219,-2.908723828441451,-15.533002954736864,-29.82240513645802,-6.852271071916186,-25.32853063121682,-26.664339993769744,-8.864237156567746,-18.321919709936328,-7.165973389387167,-15.44907594782742,-23.471607443650218,-10.317843309333922,-17.304733900346484,-5.213246922944247,-15.016402065450169,-23.757799033556765,-1.886268635166426,-7.904013370618299,-6.150415162447675,-39.70456761414925,-4.153435056332137,-29.095475031540015,-44.585585365881144,-41.63049024549883,-28.85486867881386,-14.313988022302384,-14.702984997279122,-15.273659349431009,-14.870605863774529,-12.18979921130428,-44.60400383740012,-19.496703359261787,-20.94574641598616,-3.485649761073839,-7.348007652196908,0.7549595251491723,-10.223082108506576,-10.57403761215854,-12.145065895097469,-7.724559118037673,-3.348305354254521,-4.800794405319201,-19.55526070006416,-20.747704849794683,-2.6688941595105993,-10.672417144575833,-19.93398416428845,-3.23332111237748,-12.718647402765491,-32.9724009715933,-23.05732994775145,-13.93919710672853,-32.191443866938606,-19.96581521309182,-7.334502661163173,-7.655006557208907,-27.799844512618748,-3.338490892250144,-40.11311379652612,-13.479824912110773,-12.320937019568888,-17.80923792359005,-28.70535313848933,-25.21059649166816,-14.59016761878153,-27.714180014143416,-22.489184337346114,-9.260937224339886,-38.39867399614202,-25.95464929040453,-52.27942831222114,-18.35714248827356,-48.53043830732907,-33.31630725045914,-40.149797745916025,-44.71886357978962,-17.27838370156901,-36.061158333647285,-17.107564330455414,-7.528032310697114,-26.16310950676921,-32.30640475438491,-38.557299059565736,-57.00610298460619,-20.404477118808785,-29.985121013942614,-47.57752321421303,-33.69934824275921,-19.108193359363707,-36.55320943188059,-25.805471849352795,-30.278375521218916,-27.29320667686663,-12.003060977174611,-35.63874312449859,-27.728350582006666,-17.826741538163592,-41.71527143395001,-37.70231265157548,-7.748181499838054,-15.597635502372048,-38.01571819209291,-3.301363798240887,-1.9671544808894583,-20.911082780981232,-27.724644249571348,-35.6289029103014,-45.54410803530341,-53.648346954276725,-33.93729479496337,-36.910811261384715,-22.668235263114504,-32.967430937552656,-2.2389936043336056,-0.6479378597172464,-36.70898759044452,-8.600169876488454,-21.856832073250615,-32.656837227549204,-17.932579928490437,-32.282359024284034,-36.904853189872355,-17.77746257873171,-15.043697683707848,-16.794890934334372,-10.103491081561264,-19.71874707123374,-32.79921528539662,-15.173206640158506,-13.886522016207845,-18.355109928775363,-21.626724814614274,-18.40925514003972,-13.851286270258596,-22.105548945664804,-42.572516196835046,-18.092728023168444,-47.10529354620549,-39.2185278053187,-2.7895002048190523,-16.914409236454368,-34.689234317152724,-32.51410982423566,4.013059205661178,-20.915146841873526,-30.82029558763957,-23.280506372719714,-4.36332199768441,-26.03949747317797,-4.718148401613207,-22.872434790904585,-38.84931154519853,-30.620209197243177,-35.346955991989475,-13.005592260376599,-47.005349243697,-40.83859755662026,-5.264695028545024,-6.470069268359987,-13.349042639480732,-15.811252983778523,-45.1543937241584,-6.165368486548508,-9.909170822378082,-12.14256571607376,-38.71179135805988,-23.018701253741018,-8.257461185183613,-16.374451245088252,-20.00627713254088,-4.4188497675037794,-8.507770856390248,-17.184295774787657,-3.246037437770887,-10.6026127792778,-27.073843061312775,-30.94014674449381,-33.87985346288961,-19.750813259819004,-20.457242607940632,-29.947854529739796,-12.763420710859728,-1.7399559932766229,-19.793104422692107,-27.58173345744428,-11.854851662894653,-7.915476227258721,-16.818615057775794,-15.87022115899773,-12.99364191387033,-11.438130670478518,-38.30204659666285,-16.008159655263334,-42.19318919729674,-27.986921103126583,-8.040165182896875,-13.323201057936801,-13.842574517811018,-5.621309963067168,-6.831679884362381,-7.882017933949416,-18.10893190057716,-45.97555692183807,-21.923004833310603,-27.582828519153004,-25.60185744534803,-10.399071742698169,-46.3012987045673,-52.96941362433361,-15.189256484343915,-27.399536899161742,-48.99400195301932,-27.853349984912562,-24.81072787651455,-22.622291638315133,-13.197837067446104,-4.410005537430004,-35.062814843698334,-39.46305535604251,-12.362874922773477,-12.523027065555048,-37.486074657966924,-23.875944988117656,-41.5970420288606,-12.246033535821148,0.15240639409626167,-32.38251652001376,-14.642781614546292,-31.113042715455514,-12.599198861222414,-32.87871694293894,-8.519965516025518,-51.16361825878749,-35.9876206714761,-4.475113035422606,-7.5886951669986304,-14.289624480950694,-17.40512580573605,-5.86901628611457,-13.581500618216868,-5.845886782457092,-27.836616815857344,-24.850734611406562,-33.87606359665584,-45.87487988194783,-35.76128578981048,-26.53183079157127,-19.602842719334795,-11.102968894768155,-16.73835265105945,-22.71861659800984,-13.771635837469379,-11.269525834088936,-23.27181574974691,-27.492529337835844,-14.31988022132193,-20.06072073176374,-12.497784204913973,-57.71485127656742,-35.59591531352936,-43.79184364853982,-32.67643040515904,-2.6548913644188934,-4.547136043602743,-31.50531636302383,-32.45458498895444,-21.72402322212639,-23.25956265102118,-17.973726733887418,-52.51400198599084,-18.41361329873386,-15.872061092335501,-28.3156409217394,-14.365768808830376,-8.875490073525185,-40.48917771769728,-26.028832777856273,-30.783995298024404,-38.20517308400453,-6.539684548048676,-28.254964013919608,-7.405304938155648,-11.905701202865488,-12.044796286409534,-5.641655954071505,-10.049769221189953,-31.17246364456545,-16.671297120927097,-38.832071396450665,-9.56639306294978,-14.839731590909702,-32.34612634788695,-44.54516567856728,-28.141403079107896,-6.584311286017452,-6.248290304546235,-11.520045292282326,-30.40958949795115,-26.247081497219618,-8.142601568920682,-50.32863747859639,-14.90024127651215,-24.06307288132496,-12.253684947203467,-5.701933762137022,-26.355357486054295,-11.71421216815721,-0.05748937468919161,-36.765028688241586,-36.01770364111918,-49.94729946129162,-9.909181909473785,-32.673458543469664,-24.453476418419594,-18.76811629928717,-12.015002921375325,-27.476018688620016,-24.903911409517082,-22.75179430143833,-23.2482061472978,-25.58318980049785,-37.66279211146774,-34.67167534876647,-43.86744570828092,-18.18631722295423,-42.68231903820861,-46.28471392831605,-36.10147434139213,-20.100831010323663,-14.539261201124459,-46.335289407627144,-36.018916796125254,-4.376265998041406,-39.256829844306566,-20.812779733387202,-23.714992079052926,-16.98501015667424,-39.87313350845024,-4.605172042673205,-21.147552678188465,-31.666118196744787,-7.650543207474112,-19.04281378070216,-42.77885940038959,-6.467074868782289,-48.4740639522204,-24.173441642416968,-18.99309448265127,-4.545976332605121,-27.04149746074641,-25.782744119909637,-1.6454932171135024,-4.473596764468342,-32.63978539603463,-43.05860729136772,-14.908024602073,-10.190613763367395,-42.93233628759789,-15.105653467722957,-2.487009886564733,-10.015702140877755,-4.567935877518758,-26.486188786970086,-4.817425271558544,-42.59980561981453,-9.605349607852618,-12.337914461916288,-25.108084301777044,1.4078970204726025,-29.120296577799696,-56.05498141787969,-22.900500697750964,-1.5363268596206292,-21.732204489211842,-50.12957590872081,-5.709880694652779],\"yaxis\":\"y\",\"type\":\"scattergl\",\"textposition\":\"top center\"},{\"customdata\":[[32],[27],[17],[40],[26],[26],[22],[40],[26],[9],[38],[25],[36],[34],[26],[16],[49],[27],[26],[17],[42],[28],[30],[32],[47],[39],[15],[32],[42],[21],[40],[31],[24],[41],[37],[10],[18],[21],[9],[24],[29],[35],[17],[52],[25],[28],[14],[38],[20],[21],[35],[26],[36],[24],[7],[34],[44],[39],[42],[38],[24],[44],[30],[5],[20],[38],[23],[31],[28],[44],[42],[30],[27],[32],[32],[34],[24],[32],[24],[20],[35],[17],[21],[40],[38],[28],[30],[44],[37],[24],[4],[11],[28],[13],[33],[33],[8],[41],[13],[25],[8],[38],[31],[55],[44],[32],[32],[28],[26],[31],[6],[14],[22],[29],[10],[28],[13],[20],[9],[17],[36],[21],[61],[48],[19],[40],[21],[32],[33],[41],[39],[45],[10],[38],[29],[36],[39],[22],[26],[19],[29],[26],[45],[50],[37],[38],[48],[20],[24],[55],[22],[48],[32],[31],[28],[43],[38],[37],[46],[17],[27],[8],[6],[45],[35],[20],[41],[16],[20],[31],[30],[38],[40],[42],[13],[32],[21],[19],[33],[30],[27],[23],[37],[23],[33],[31],[18],[22],[29],[8],[25],[40],[37],[9],[29],[13],[36],[46],[47],[14],[47],[37],[36],[43],[34],[33],[13],[33],[29],[30],[19],[56],[21],[41],[40],[17],[46],[38],[55],[27],[21],[29],[20],[33],[18],[26],[23],[12],[34],[25],[18],[55],[40],[25],[28],[36],[18],[37],[31],[42],[33],[41],[26],[53],[38],[44],[57],[33],[38],[17],[31],[33],[32],[34],[25],[25],[51],[24],[20],[21],[7],[31],[30],[41],[35],[18],[32],[35],[41],[40],[44],[26],[18],[29],[27],[43],[38],[25],[52],[38],[47],[67],[37],[16],[34],[6],[26],[32],[14],[19],[40],[34],[29],[25],[9],[37],[22],[39],[24],[33],[30],[40],[13],[33],[36],[43],[14],[33],[28],[28],[47],[36],[63],[41],[48],[34],[13],[32],[21],[45],[26],[31],[36],[41],[17],[18],[44],[18],[26],[40],[34],[54],[28],[19],[5],[39],[26],[13],[44],[69],[42],[34],[7],[14],[22],[35],[29],[33],[24],[38],[75],[25],[30],[6],[13],[27],[30],[3],[26],[31]],\"hovertemplate\":\"Cluster=Cluster 3\\u003cbr\\u003ePCA1=%{x}\\u003cbr\\u003ePCA2=%{y}\\u003cbr\\u003eFeature=%{customdata[0]}\\u003cextra\\u003e\\u003c\\u002fextra\\u003e\",\"legendgroup\":\"Cluster 3\",\"marker\":{\"color\":\"#ab63fa\",\"opacity\":0.5,\"symbol\":\"circle\"},\"mode\":\"markers\",\"name\":\"Cluster 3\",\"showlegend\":true,\"x\":[46.526175865125374,68.61088246888528,76.18178206258159,51.34871050632068,65.7928383380774,64.4987736291142,80.82019423174341,39.87597635038322,75.38120372431509,73.72056279365735,49.92448653156015,59.963854597103214,56.41373160162613,49.02189375681198,52.46779858056516,78.53813943960081,40.09638941365447,56.06877381639477,57.86447293559432,49.12698316534463,40.95457054057588,39.068847335865684,60.671259608839826,43.899956613138635,66.57921354834748,50.480759312473644,78.97120889148034,59.51263658238016,59.64226241933634,46.03371649445765,41.27646072432446,34.23807703965174,66.95288206305602,40.00607034225155,69.07183398281366,76.21633371770514,81.6285609741161,74.2361621318142,88.29654419844819,61.929546988168056,37.95526522615914,59.288521387551064,70.92833271557323,37.460502733147,71.56689332296024,56.42830724312813,85.56845000726328,43.1862197810283,55.38808039756028,77.4861757214415,54.067613974357535,76.36175388208537,34.59678040994561,57.522673835947835,95.50543358197064,61.64254215121671,36.18984869680103,54.97270972543431,61.654561114540606,53.465030380683665,80.85210424086681,50.40358459047861,68.60376446503703,81.86312893494608,87.31002241912418,44.81184898324679,73.80012124677671,62.947776677491476,45.58284643643936,50.89060743246458,55.53791023080582,72.08609509096893,58.860259454013026,49.21185340265322,54.72741558778103,31.609041117737732,49.996188168764654,54.98750366993663,46.89714737160769,55.48935369807151,32.82562114644588,68.79764816913239,72.38149597621397,51.71134430402738,48.092133646591094,65.30500933878288,58.1799201845173,44.001464424671916,59.397940022879666,67.0660014015968,91.93819942531287,69.04852125352767,44.769684454566445,89.14520633631216,56.219900644870386,39.95931473851104,63.816968334262725,49.56334819687826,87.82966337606076,69.32034672804335,79.29012830824874,50.24225951959798,54.32017895784798,44.77856014903505,52.059484186521374,64.81320093384119,39.51516391015067,43.79153515950485,71.30903154684455,40.001309511698736,72.38275467701285,72.407705037329,65.93478953433744,76.02167124316514,78.25828729687409,57.80369710872278,79.77849222156095,68.7846367962799,85.30130476906805,82.66546296811016,63.185736258391465,68.52386263610114,36.386272255010795,52.82132082642696,69.47796428935011,39.06999789790578,73.96509023548624,59.74466754516073,58.68812712024706,56.99002436720473,60.82004072816208,70.14859560930753,75.73665484521513,60.677979362220725,63.23474707032837,34.16697569693949,46.954730874914645,71.79675803295973,55.16472417746534,58.399422892481866,78.869996353931,64.00640720394622,48.094071577575235,36.612033751936615,56.69486301289884,62.52980162929757,46.7561703153099,67.25675643249565,64.6644563405012,34.44364118573293,84.36274666549566,30.44205415343723,72.03199960425106,71.6597433943255,68.55780073270903,39.23078871214946,33.440572242604375,56.20193647493693,52.13897223967761,79.7068192955746,70.76507055624411,94.15092046405756,87.71292177610347,49.35727677357906,58.18963923110246,73.03189013741341,51.773500841359414,82.89644070005471,78.30567652315618,44.251292060999496,52.744069615712796,44.908914856513334,52.45201979749597,64.93907342742789,79.00224214540643,47.41079682551375,82.34159208959234,91.71135590810758,46.80009522409451,52.22172617788995,79.21411237452415,76.71569918334279,34.32066893359109,58.14437371012021,33.62970925829175,60.35226396593591,83.19076980169157,61.36766548252719,63.63249936320719,81.76664102694583,71.93507116807287,65.89308671748114,64.07622933673898,82.8291626919205,63.0434859017823,77.23255898280783,45.17792803685668,44.98640120681475,46.343793032263164,88.16501281015962,32.64000825660223,54.79556959424962,68.29057379671465,58.23579841738188,37.54431943416783,65.29411237162081,72.35523148676722,51.42328864408292,75.37765968518794,74.10400856130491,81.78574627948682,35.874196019977106,68.82250826519132,43.21475449296533,39.64477797605677,87.50954576766684,61.61498776176844,46.26165090857832,47.17319066796357,59.62512188721891,85.31223003705941,44.747645690448785,89.98920279550745,65.17575495299054,70.28338408220732,83.1807505882037,77.67720258357667,84.57616646067768,35.1036714255053,42.151847811477474,82.21615172703906,41.32858729836692,45.69678223557236,50.49455477780319,64.24229575207694,48.14789273461335,71.64854069014635,38.33116434889951,48.005413944143086,39.30996254236948,65.86906099693933,37.435752052788935,60.95053347003297,40.93096138785899,51.35450712134348,58.72175610291083,39.33963197001943,52.03594944771475,38.08020369610257,72.96215350016816,74.07995561263338,62.55251177177297,56.74295034561085,47.82932686903708,71.9523102852732,76.00548137152991,31.888394713499245,58.76050568480653,77.37110512184147,47.86624543495683,69.02221159188018,71.59223681861334,42.13341767339587,36.71994958911667,37.068846310928954,71.1018955776797,52.12892184015828,37.9649012391703,55.040767969701584,61.59798058190883,39.09469047562136,46.710101168432914,81.96461008148172,73.79298319314917,66.46456419505209,52.0123034188338,47.3371801738405,61.47457426024342,48.01647044666849,56.968415158514965,48.54425203358535,28.226388787159742,51.2763991770028,70.60093168479285,54.37255245548851,89.14200006471627,66.99320356919493,75.85090035806549,85.11485314701808,66.84580277981442,50.275698337926464,40.78704622635847,66.29664314963445,74.68973739635356,85.18853116598859,39.00370423756004,72.6312338046203,38.60449461846387,72.03243792855879,49.95154200281594,66.26798895007131,56.82811634713427,47.27320200994669,54.88296502180126,38.93193977167991,37.184476819943825,89.9302152099269,62.33299221871645,38.36376066413731,64.5016253896002,33.41121458846134,49.31149353700814,43.5106017513316,44.16524728052175,41.912131620980816,75.37079702789615,77.4657686617221,52.49049285891815,79.12271285680104,63.48251372588122,76.38637171860198,76.67411819401975,33.704259325802866,47.229937828374844,69.02766670971658,66.94229718906685,63.150807160404014,74.39882912982738,70.35662631227663,51.72789918213607,66.30721186292875,49.56271263217413,48.75096539213805,56.238931257507076,60.18393383701147,38.70568607982045,32.56465569688617,60.912479165408016,33.62143737678824,39.14804843469962,44.58423131183627,59.39127441515264,101.79306124131827,90.93641717045948,66.2739536006874,40.9156148079194,71.0503516717144,53.931351704232135,45.03487241483656,49.85980056764113,38.91460247519497,55.84846365507613,55.82108506890722,81.68867918730822,43.338815798120784,51.09374399661183,54.880196807689124,80.3211930239614,62.66368226453346,34.571600038551644],\"xaxis\":\"x\",\"y\":[15.343752087244694,-12.032046035863521,18.29764046714851,0.802456638223033,25.79429503541159,1.7311022901097062,1.3435415006690514,16.490096278994127,8.385405259555036,27.08583666017272,-5.519686035521902,2.959853778636993,-5.318531786703155,-13.147553026787778,41.36539826361132,13.408396667313621,-17.975877406460114,-18.632509368079734,27.271578160650787,-21.95292231072706,-10.343012470319621,-0.23815831474089652,-8.325151684350615,8.10292846139046,-0.6380174888615353,-6.769270581975909,2.204363267248978,9.509717044451596,6.869205215003057,22.52029352461865,-3.6985537356945044,12.36922255374178,8.539519889315033,13.35928035862622,14.780479824240379,24.993122644248796,1.4218546696165828,20.70014330750518,4.1412563750587275,32.23749089264021,-0.11609108700721937,-13.508236212019217,-7.467865414154344,2.4636235560702944,3.1981091115422706,5.53736482992388,-8.943452276905235,20.76733894328273,49.749594974069225,10.737882924853075,4.044416948171709,13.42805332349444,-7.3898743914343825,32.431606355303806,-9.448753755877412,5.249211658538301,5.340283726267799,-8.68403206831308,3.4658169520276214,-3.735766307717318,1.2825708161479321,1.9865930448285625,-9.266417193331977,14.497719680979035,5.778828154125561,-1.9542667810545653,9.967579424387058,9.750718013129402,-20.33309241826604,13.119573596862162,26.19860417170089,-6.911305931442836,-18.09767120236079,7.1991441833277445,3.3184401590697337,8.141239960497666,-33.05852810008772,3.307346897080321,-1.5807295894625553,-23.910038948750913,5.478042710896114,-1.22727260117085,5.2914212679622885,33.27157378471212,6.879850365346721,28.98289754047769,-3.6998242116945397,-29.212754597525507,-5.883664347414602,13.569022239131062,9.516010122046842,44.00373687626272,24.757526599353234,-1.3309678206830036,8.440781153761721,8.946852461685014,10.095187431609483,8.987662014093736,5.927729669480817,-1.653860942613699,-5.953863915848028,-0.28995751255035024,7.59772773682244,1.7991632407400582,-11.96594339607959,-11.924550356947007,0.17238290420019375,-16.15600061226081,-2.603447483030861,-8.334347055087155,-6.595229516513696,4.77697989795561,36.20402613012497,-7.194289825022639,2.7528166730393884,-7.947083695108756,-3.8814995270742823,-11.720659490491968,19.849547937974837,13.458138710323576,5.886291395755578,26.00628990262282,-6.091665245919054,-7.654246205027934,-4.416852527540532,8.961197674918658,-3.236731730043175,16.720377306875438,-8.443404186454607,-29.77616132158483,-2.6368489599761937,2.098105452754282,-9.859836383865295,7.1622954197583875,-17.675965778793493,-6.302471245959117,18.13330298727505,-7.423137450687438,43.54831959805071,36.925183418036376,3.4480949169030946,17.834078822148122,-10.971263476553645,-9.11215428555969,19.76347152427109,-6.291158525462454,-8.463414211057218,2.6375955978518992,-11.539230667275403,8.738331428634678,-1.4803698060747321,-4.366893544942943,-3.5526823195046844,21.818920588575168,-15.234631778235626,-9.342292055828851,4.537958550527075,0.9710470731937885,-2.5997918743401462,-2.111560172110626,9.01413054683644,6.082499231810778,-5.551815418498218,14.638818683574945,19.75681159848219,9.133369798928348,5.835774538789285,12.24327411111511,9.508296995752648,-22.56611625897812,6.484157409437187,-1.9608498819348186,-7.524132283326268,5.417475038892311,12.522068744022683,5.169009230034705,11.041013771080557,0.33851505926088166,25.2811274717244,12.297265458646898,-13.173050381234763,-2.9848701131631405,12.728422309919488,-8.156529210578718,-1.7487706248550374,18.560436352001087,-10.474466646917177,10.2299483801829,20.606912721753307,19.455613792301733,15.863026054271053,-17.268593125347017,2.439821245454084,9.797841155131009,-19.192982887117054,7.193274494289538,-18.4637336602633,4.370873554985544,-27.546955204459447,6.456746144589813,1.4413645188046635,-8.871231133042459,-9.058578368997257,-21.32608572580798,-7.269922439432893,15.813400685922373,-16.763821977639928,-13.74594262192495,8.640783765898387,1.2156146560071708,19.06798769728538,9.87616947204162,-2.6533760982174805,-22.777928171770764,-17.222204482603125,-5.4808679526417645,-20.08654499215174,33.98052773528495,20.39988640284926,5.81793992213052,-21.1020699409531,18.76236260389968,-1.4786910995905247,15.856487645267947,13.727517813383566,0.6829216247634189,0.03962923375611724,-1.6531386053303048,-5.06576285385207,2.07105563261461,-10.80378713668444,11.24717987743803,-12.138789573283882,-14.12686937814646,20.96886864953895,-6.177799640066172,8.931602376632133,-10.632199028959667,37.93935461978414,0.42349080032250136,17.343453434681862,-4.712246327450765,0.8947203133965039,-0.9451078194402508,31.674038802259837,18.4514421793189,-19.359018811739965,11.80189858683629,-8.756965828985011,13.479143061966495,9.616855873451305,7.4567776599563835,7.6474522069047906,31.508492999259037,11.491335819713875,7.064147150654726,1.851353835133415,16.599248455127675,9.716995397605613,14.003295312349106,4.688733873369169,11.898998327301106,16.904464051576916,10.280426627855228,19.825967934144394,-3.1490066058827226,14.379397065546875,-6.940738140617733,-25.112007930225843,-5.243069840022612,-1.7145194863628714,8.724341951593633,8.70491092901902,-19.708740678780597,21.499478405614102,15.463823478910934,16.809380475233958,3.160411060053863,-11.44741828619667,-0.6063527221781164,4.982637086902322,-5.462901945339405,1.9543299259510662,22.774220420924465,40.64745828448468,16.187232256845775,7.879021713926352,-4.782699256111375,-6.055974595985202,-1.7113221227057496,-12.379928319371416,13.795237181334947,5.583974319579515,-10.964232241206359,21.365782296606675,-12.693865424224983,24.041661413362302,-5.72214505507555,17.164669103687466,0.6136203536188564,11.045228454587217,-35.23465485107544,-3.220090286925314,4.028381947263582,5.302535805682259,6.879830976930685,-5.801248146863404,-6.449403463436951,-3.7455326291844524,5.058085805793583,3.3420097393489945,-2.487669385629696,-15.063118945661165,20.14071407022435,-8.527478003164127,8.472278894806717,22.30688639728942,-9.05667671570918,-7.9715733356372365,5.940414400968599,8.513149907422498,8.408524085368937,6.663623504112465,33.75535673274171,2.9555767102707953,19.93649335688961,-10.983921049631482,11.5986564822812,16.98867760538698,8.742546692836735,7.034939148802944,-11.889668781179989,-15.713489821958882,12.237536465421247,-1.4161615001331092,-5.109469017323746,7.1891119191094495,22.98649265013506,9.03749033114339,-3.224312893592824,-11.92019468576272,-6.99844668143024,-13.344468148095114,-4.556188059620522,17.28475480991283,-7.92823978283782,17.581974918220684,29.56821714041093,28.92783152385802,29.330661997342272,-1.3009805026641155,-1.7914476634757792,-10.044847473444865,3.819506954617484,26.924212971319218,18.66312460113841,48.93546519596261,-9.875920558857134,26.491377997475556,7.567162041899495],\"yaxis\":\"y\",\"type\":\"scattergl\",\"textposition\":\"top center\"},{\"customdata\":[[63],[45],[51],[67],[47],[92],[69],[72],[93],[46],[51],[87],[60],[96],[76],[84],[79],[62],[91],[60],[93],[95],[71],[94],[72],[64],[88],[46],[80],[90],[76],[51],[90],[98],[88],[79],[47],[51],[40],[85],[95],[78],[59],[88],[93],[86],[52],[50],[93],[86],[89],[68],[65],[82],[74],[90],[85],[93],[77],[32],[90],[99],[85],[53],[75],[81],[78],[76],[92],[79],[75],[68],[64],[77],[92],[68],[82],[83],[64],[72],[32],[76],[64],[68],[86],[79],[89],[71],[85],[89],[66],[77],[59],[59],[76],[39],[72],[29],[86],[88],[45],[56],[88],[93],[75],[49],[63],[56],[87],[61],[89],[87],[74],[76]],\"hovertemplate\":\"Cluster=Cluster 4\\u003cbr\\u003ePCA1=%{x}\\u003cbr\\u003ePCA2=%{y}\\u003cbr\\u003eFeature=%{customdata[0]}\\u003cextra\\u003e\\u003c\\u002fextra\\u003e\",\"legendgroup\":\"Cluster 4\",\"marker\":{\"color\":\"#FFA15A\",\"opacity\":0.5,\"symbol\":\"circle\"},\"mode\":\"markers\",\"name\":\"Cluster 4\",\"showlegend\":true,\"x\":[-34.19857835846003,-5.099174464928331,-9.089252772609287,-24.183161757865754,39.130416206434134,-11.96064905034321,-38.71313683848595,-32.98517387689973,-7.132617988630695,-1.1810143975058354,-10.5860093038188,-42.68060698345874,-30.54263012781932,-58.82681788721962,2.8732715662441537,-44.773034206430424,-43.122828545453906,-12.36778956469091,-47.73478541003189,6.435349616179425,-8.79381408358283,-43.72060369355266,-42.43223958860475,-52.17455852009232,-31.47368528255792,-17.465998280983243,-48.96450164582193,18.77154510534421,-39.27390818294607,-45.928876388381944,-19.536397700169466,26.22776247182217,-43.07344850782148,-47.70519758594217,-41.301205449596914,-40.00111308924313,14.710432246997343,24.306758647813155,12.186293632080405,-36.65680462061535,-53.80419991414235,-14.424885866276865,15.805328374929953,-23.07955265727594,-1.9187266628313036,-27.53628282624139,-4.655977519157934,9.289933645446212,-5.520903208119165,-22.094389640526977,-41.74959691556669,-15.463567297735379,-13.758303861071997,-53.046859742596915,-5.768232528811712,-35.512002583368734,-2.7349317477281185,-8.82030669783045,-33.66919672742839,5.896181568304722,-46.756951092267116,-35.17250103683628,-35.93383087561568,31.358988584179208,-18.753721938245906,-2.367284270261134,-17.165633806344214,-35.190579558334555,-45.17531487206437,-10.88322406128205,-34.76600843977851,-27.957877964921902,2.9746882479121854,-12.364943698270142,-24.33092966719117,-16.757430231110423,-43.30456342031161,-41.262480267616894,24.992118146342612,-26.011363382845538,30.663750542746516,8.25177290575793,-14.383087613965895,-15.130137515404344,-40.19954116550804,-29.26216265073205,-46.41499120287376,-45.500156595822205,-41.61919358428462,-47.64713092981694,-15.280108322201169,-34.634101068038404,29.517781783493696,25.561531727375318,-28.510356139054302,36.467555372989736,-17.664331557380518,-9.080362544926471,-27.569447490465933,-16.352157499539068,1.4242255443895895,-19.97917379436698,-38.87799779092547,-21.233622210342748,-21.896285774636436,34.76039232752009,-25.467360225797844,36.73068419200748,-40.94977886658397,15.860353723509379,-50.424111091532545,-19.087343910793734,-21.304957414016485,-5.968952212001342],\"xaxis\":\"x\",\"y\":[4.092598969203068,-1.8397732417093113,-7.686418858847359,-7.975566580457215,19.558150392277202,0.40761997234933733,12.480306465994882,26.88855444847246,-34.961119475197926,49.159697958951796,-26.66874177233622,-11.10347069034502,0.10576400118229524,22.63513718648547,47.7960330557804,-3.317960399793662,13.07964888239982,-33.32633366591332,26.036441473977547,50.853667920355655,-16.195947878149145,-21.280575162082528,15.3789056752207,15.683322857222628,-5.909343555038037,10.22466081279331,9.127063455502064,-32.03094231370723,-6.631815416742093,-5.260160563072101,-0.199401886571978,-4.732810287445718,12.904386391119926,-4.7014281593168255,-15.852111844954255,26.686431943982296,-31.049902625918794,-24.77944870583926,42.5100583857061,23.971354835952205,4.013904566169268,-34.3450338336318,3.611701940123458,21.044735381515284,-34.104073225006864,-37.89086269674931,12.774721892508841,-14.393747895579443,-16.03500465456869,-5.872516765013121,1.9469916162218899,8.424845194126608,-7.506946635146389,20.74739344581306,16.909106840414132,-31.232671848128742,14.598666168304021,5.211477630317461,5.212501688969699,-6.693127022680454,8.815492705172069,-39.503740440366784,-5.353467366444253,-2.63229189539793,-34.2456440411905,35.57783402135192,29.58856083350441,-6.010768886327166,24.816016464554767,-33.77818044245511,4.893352941796096,11.31651697068554,8.334146948773103,-10.833114875441394,-49.76695601501504,-4.698362678690227,14.741314023933034,-6.684597433871015,-14.367921494973029,11.550758832668329,7.531067591610718,20.482139947302187,5.240635442136626,9.344806200401095,7.698991945223001,7.797064566229034,1.2620721423619732,18.011648351843316,-3.9426617755941225,11.96085602577356,-9.482989439149835,-3.2386055297738583,7.3519739683667895,-4.217336989424845,2.862145369039754,16.52274827642106,-39.053307316245004,0.19543060827364775,-32.90605226634501,15.405971557071393,-41.455901832869806,-2.954855463720054,-9.817719782945487,-25.144874539270347,-36.75564057153404,-24.343085322018442,26.465352767713288,7.226447492454737,-5.368023422275806,20.140317137532403,0.2385935205564815,-14.322608943182784,-28.79176367697929,12.790455890091595],\"yaxis\":\"y\",\"type\":\"scattergl\",\"textposition\":\"top center\"},{\"customdata\":[[64],[63],[43],[55],[47],[21],[68],[44],[78],[48],[46],[55],[37],[58],[59],[85],[58],[48],[55],[68],[44],[46],[35],[29],[31],[60],[63],[51],[47],[48],[46],[52],[60],[78],[39],[57],[35],[51],[71],[45],[24],[66],[66],[58],[58],[57],[90],[66],[39],[43],[29],[43],[47],[51],[49],[69],[54],[65],[47],[48],[45],[54],[61],[66],[57],[59],[56],[65],[63],[75],[59],[80],[69],[56],[71],[50],[73],[55],[81],[57],[53],[65],[89],[75],[74],[55],[63],[48],[38],[76],[46],[57],[32],[54],[47],[52],[47],[33],[59],[67],[35],[77],[65],[39],[55],[47],[69],[41],[50],[59],[46],[42],[33],[48],[57],[71],[80],[57],[75],[60],[57],[63],[76],[64],[93],[66],[84],[79],[47],[62],[57],[63],[69],[41],[26],[62],[71],[93],[50],[94],[55],[81],[60],[35],[37],[71],[55],[68],[46],[51],[35],[25],[80],[34],[50],[41],[64],[95],[87],[72],[75],[71],[52],[40],[30],[67],[33],[48],[66],[48],[61],[45],[45],[56],[53],[49],[60],[71],[56],[41],[65],[75],[52],[54],[51],[55],[51],[66],[57],[67],[40],[42],[24],[49],[48],[39],[41],[28],[47],[55],[51],[56],[82],[61],[28],[44],[49],[63],[41],[45],[54],[66],[57],[52],[72],[42],[42],[72],[61],[50],[86],[28],[40],[40],[54],[50],[75],[43],[49],[65],[46],[74],[39],[53],[63],[70],[75],[68],[73],[70],[39],[83],[90],[51],[41],[69],[80],[26],[50],[45],[67],[53],[33],[66],[46],[36],[56],[74],[65],[87],[62],[59],[50],[54],[58],[42],[76]],\"hovertemplate\":\"Cluster=Cluster 5\\u003cbr\\u003ePCA1=%{x}\\u003cbr\\u003ePCA2=%{y}\\u003cbr\\u003eFeature=%{customdata[0]}\\u003cextra\\u003e\\u003c\\u002fextra\\u003e\",\"legendgroup\":\"Cluster 5\",\"marker\":{\"color\":\"#19d3f3\",\"opacity\":0.5,\"symbol\":\"circle\"},\"mode\":\"markers\",\"name\":\"Cluster 5\",\"showlegend\":true,\"x\":[10.39446964434245,7.739836807794619,33.26384753177417,40.529624410098286,16.183597310209777,48.58751417033629,25.3624939483586,19.61244113309335,0.12418000752594399,5.676783080747554,23.212261255477287,5.599440330621785,34.730560722022815,-2.365497418280026,8.865192370113153,-5.978383145453461,2.3783275005118534,5.674042759215008,10.192396634296408,-10.621158205059535,27.735879484270342,29.12040059954714,40.39532105889725,34.44337459594328,28.514817797684906,10.063292708562543,17.887384396912733,17.34558643661495,20.74844627677124,35.84747831284394,2.031712916308453,-4.193733386094133,-5.56741833017701,1.1875094718633017,13.15092978485101,4.888767922024221,14.452940072392783,12.62522526570869,-9.383278394720175,11.727307086484856,34.50915090164162,-1.6601437728291997,22.033450137668485,13.551985772156593,23.071697856497227,22.344569954084182,-17.69879490724758,33.05855106199347,28.8393076596112,4.485464496379973,25.989676447029986,28.48405141368387,-4.535247442792848,32.774708838908566,14.499603479361147,-0.17821150831570387,7.6949512206234,-1.53670442040511,21.53214977802316,-6.0045173476058595,-1.0288552153292394,16.82171220130278,-0.21651668567779087,18.2289407217106,-7.416399637109778,21.993409928930042,-5.007595843196214,-5.794830569651564,23.004885193729535,4.682948647515652,-12.978057748670116,5.0359257599042415,14.323057954461728,35.74894549812914,-15.263076177171373,31.236251994057717,-1.918604216141156,21.399935919072405,-11.983743433669407,-8.499871571348898,40.67637604178337,14.702957986768462,-17.09774305576972,22.35984721815336,-2.3177059191581133,20.320163850025907,18.989170553958882,27.77160251778589,8.300767000627136,-3.389290281567775,28.152778091067194,12.034892655651534,46.0530541741624,14.40607342354618,23.209064332494982,17.887040901490312,11.894099315388612,22.48481814613149,17.002896042372907,27.4795264201763,12.98617444243896,12.520719495975243,-4.434577564626065,11.744859378594123,13.604187069929807,35.839192099710175,16.08548186489407,8.564769098736907,12.05905586592211,14.008799470666384,36.58754165154962,9.430099616923627,36.20552735198369,23.117499276901796,0.6931641066021392,-8.609741727344288,12.477938279646965,12.382454418333669,13.122965762100717,15.053267652051106,33.57656637504812,-12.079698150129355,9.917207275822005,13.132957095062379,-13.16183039330279,-4.305565966431326,-8.90857083823236,9.06333298046298,34.83248800301006,8.021133767611168,3.3655659451020443,-3.9145977935163248,1.2358160925861708,35.95390013110255,30.870152794768853,15.34864865492214,-0.5009698360990017,-19.161688586062386,6.674258772726015,-18.910811238481205,4.525423127966715,-2.186953903997237,-5.887510023535666,18.833465995109893,-1.9685166966775205,2.1748891477584746,25.726093913308496,10.807949548719987,11.121431181264294,21.911339412649827,28.060959644652712,33.664873431751246,-10.468165522722645,45.505767689009694,38.37786909945798,3.5748454841354724,8.219085531674448,-11.593162196116076,1.1840063280451185,-15.984080839125554,-10.643814986456531,1.1743204063727313,39.761989817495994,17.78940372357668,26.178606036158904,20.93215850771434,47.39820976367121,30.090680088252004,2.6511646784530547,13.374605980828399,11.667545437565295,-3.5157743384443174,35.67547060486277,4.380426885658971,28.95250701132301,31.217962961276548,-11.571267729526,-3.7801811977707427,3.1067169496422324,8.640781124295103,22.735623555382723,7.364265144888653,28.97793568632068,-3.190288235474294,8.31642821285993,-0.06627844203198613,11.822330610071687,8.528469381905822,17.944593352252493,-11.429107319088917,8.258887900146844,24.03521674295865,43.64678722473245,30.588743651411917,21.749708266161505,35.15353260272365,10.803669705333892,34.239987665568556,21.066731132147027,17.50959659283216,11.757685217974213,2.544414239813092,-17.910854917308356,-2.7071461116963915,48.406585478763084,17.715828309525403,-2.5853167586530725,21.422944680029207,26.902325383841205,10.754550042420014,27.97525936485206,11.641220273139883,7.365964204745878,4.916779939490716,6.456064772708225,25.003399858988214,27.116062033954705,22.47289691549072,20.39996327945486,14.985316506983617,-16.422256222151013,21.675386632201395,13.051785316985704,22.229815144454157,14.245810403499677,30.707262756112783,-14.190535500638015,7.465185653003528,16.621980833836233,-9.575782949455037,16.993580927039545,16.294915748121536,16.51330967264812,-2.5829879352283434,1.185449055534414,-10.938753758533764,-10.947831605513382,-5.864343939777494,-5.291698942362122,-5.421411075689486,44.465762402330455,14.478900911884608,-11.528054377688306,28.535258387262385,19.84582070910437,0.7621321304903902,0.36806358780134607,33.238955832095726,24.63322951508964,12.635413602392966,15.72961028135747,-0.9738856264880746,31.026043872861898,2.8642468668798897,9.262961998253717,25.31304511188483,-0.55635469889259,-1.0087167307058365,12.651034614612078,-1.4556871001798672,27.37715949021574,-5.39326056850066,1.0412381096841237,3.343934578113153,-9.96310981872959,21.157319383999837,-17.530020010467243],\"xaxis\":\"x\",\"y\":[25.01867931681951,11.409783863615534,28.06810371369549,27.757326670226945,19.760525115411557,53.970884896755,36.805328845782164,11.476773515716706,55.70122366325246,39.26595035066448,50.40286846274921,10.823576541714056,33.83135045594629,30.26360928468479,43.03945276152627,49.15650321151163,17.10511109202467,11.998868527837358,22.141279768061814,25.635409230408904,35.40049500616398,36.840227791931994,40.978872934632896,36.185156342069575,30.582182098557233,61.63508319767075,40.67372878185284,51.89449012632902,47.33947613835102,21.180276071902227,12.727274656073309,32.588462757949024,36.76194403621026,3.0003261727638333,23.07355291515417,12.143260510999209,27.190062069111065,31.419184521128994,17.483629432775363,27.685646034872143,39.24658966510028,46.412409832131836,13.5983541876541,11.274874006500207,-2.429248255067234,-1.2492230702629286,21.864981523754402,18.173033284591636,7.840542588016657,17.269333954375405,37.63252158990617,9.275798471747443,16.149596019569366,39.49757939208202,57.14861547575957,10.290512684664439,44.901132172430906,13.822738210931822,2.753354496379494,44.083956612359785,32.688187015977746,70.16820065028335,24.48715981229313,-4.5537801630544035,31.832394367623426,32.87317967639203,5.957442345659934,60.417046755743925,43.239638831689035,-2.026154581978343,57.69241199438067,-3.165445109079097,21.791703437554293,21.823292539260134,43.95363349694839,7.845344278126606,40.71043927793138,8.003461421004856,14.487038038344823,54.07944792071303,42.46247725919005,0.7527095997720468,45.79641605743839,-2.790450653859765,24.056552946321066,11.327089878374231,1.354260328581536,17.892539954856016,56.92697821292389,29.627517272380278,54.77430188055016,24.14137939531033,45.01910982370704,15.539894673553302,16.282753074342125,53.49431326354175,42.06430426953159,14.363929753527357,13.12735654537147,-1.1645591493071175,26.024114972440735,-2.374486085769522,30.86732387153356,21.69185974100108,13.061555972156459,25.00532395629657,19.460369410114154,24.49715683501397,46.05204985294925,32.190812435706526,58.38140314216954,18.785390327918673,22.94057835077074,34.747632177455344,21.32819438095453,60.83666800270778,-4.414951622586525,9.54460599311146,24.13414666674181,-0.6177351398734602,19.79823178460728,53.20183981166742,38.532024307658446,20.54584004437381,43.9649988481435,28.036439722679376,28.95267790946761,10.30572983117596,17.85382925853348,27.190370441852988,11.566658321880363,40.61191576225006,32.09907164004867,60.40477949253014,39.74296682627863,15.594449918505543,24.82452658381756,22.274356565360684,32.82250929741382,26.13149928674054,9.290837966920277,16.965475962518603,17.651579235326235,26.396724635861485,26.44483047754457,9.217459672319768,28.851691303631952,62.57206499150955,29.776337541120746,23.73572194605099,24.707168162019563,53.529893588563596,10.507871102175082,37.50549719184587,37.100447960264056,51.16061479169199,18.539576097558854,50.77220167783177,23.863389453026592,32.36395947262151,17.052364430506938,51.24117325152874,25.745343934113528,36.388050521082036,14.653188646663592,17.062122772605452,42.257536757421384,20.16220708222303,7.495274002567797,7.917469495752323,28.95059430976199,51.46371386777676,24.63506504340587,19.970744962302838,5.901137450819418,41.32916594558517,48.08645813929277,11.793213928872559,31.743485798515767,37.4501748408252,4.709485674525598,26.495387472190313,7.309863875494662,49.450131746865026,53.733220715014426,44.02806017881028,20.992771446827163,7.758047874824497,20.592693067369684,23.74665248171851,44.69477075197806,27.72697710917153,47.508328027647586,28.627632150750838,6.400444069627958,20.988106215364883,14.27807140288385,31.753256196962056,39.82852373254703,3.3782176252424687,4.218516368955386,3.8679622949141375,37.033411130541175,16.386661823692272,60.4506709587411,24.271406538258102,11.97489253279051,33.56260045614535,43.51780381936209,44.87189363135721,25.629587644236455,36.796456603021966,4.117675238708532,11.52465242383923,16.05515779994493,61.29212237210214,11.464148194700584,23.523728583518974,5.198577812473176,17.949571792886683,20.45952112966969,51.02270573521858,15.672219720733912,16.446288407370133,30.62519285031726,23.378555751230383,34.343045092282196,22.985577551153888,65.69774652176527,19.86407984037033,40.9893480045047,-5.243535037530154,6.521638199809219,56.80619335822773,6.9122756120035715,28.312115572074205,11.797631888631303,16.87103372913391,23.809292251262004,23.802869948830732,33.74975301432644,-0.23758208844788142,13.55547720201518,1.456648596998639,8.769826246693107,34.88487271567449,57.57781675086765,21.011882271501214,47.19401590547695,49.87086940551073,22.351043983708113,22.838539805739284,29.740318535241016,54.810953424818386,8.238802137359995,15.039797246221589,15.299109893021921,54.36820208708535,22.323405648336323,7.669916529024899,6.866433676039207,17.1594526121833,27.10389717757965,57.2108133240908,45.22212548994208,10.184892790539948,49.72343453699192],\"yaxis\":\"y\",\"type\":\"scattergl\",\"textposition\":\"top center\"}],                        {\"template\":{\"data\":{\"histogram2dcontour\":[{\"type\":\"histogram2dcontour\",\"colorbar\":{\"outlinewidth\":0,\"ticks\":\"\"},\"colorscale\":[[0.0,\"#0d0887\"],[0.1111111111111111,\"#46039f\"],[0.2222222222222222,\"#7201a8\"],[0.3333333333333333,\"#9c179e\"],[0.4444444444444444,\"#bd3786\"],[0.5555555555555556,\"#d8576b\"],[0.6666666666666666,\"#ed7953\"],[0.7777777777777778,\"#fb9f3a\"],[0.8888888888888888,\"#fdca26\"],[1.0,\"#f0f921\"]]}],\"choropleth\":[{\"type\":\"choropleth\",\"colorbar\":{\"outlinewidth\":0,\"ticks\":\"\"}}],\"histogram2d\":[{\"type\":\"histogram2d\",\"colorbar\":{\"outlinewidth\":0,\"ticks\":\"\"},\"colorscale\":[[0.0,\"#0d0887\"],[0.1111111111111111,\"#46039f\"],[0.2222222222222222,\"#7201a8\"],[0.3333333333333333,\"#9c179e\"],[0.4444444444444444,\"#bd3786\"],[0.5555555555555556,\"#d8576b\"],[0.6666666666666666,\"#ed7953\"],[0.7777777777777778,\"#fb9f3a\"],[0.8888888888888888,\"#fdca26\"],[1.0,\"#f0f921\"]]}],\"heatmap\":[{\"type\":\"heatmap\",\"colorbar\":{\"outlinewidth\":0,\"ticks\":\"\"},\"colorscale\":[[0.0,\"#0d0887\"],[0.1111111111111111,\"#46039f\"],[0.2222222222222222,\"#7201a8\"],[0.3333333333333333,\"#9c179e\"],[0.4444444444444444,\"#bd3786\"],[0.5555555555555556,\"#d8576b\"],[0.6666666666666666,\"#ed7953\"],[0.7777777777777778,\"#fb9f3a\"],[0.8888888888888888,\"#fdca26\"],[1.0,\"#f0f921\"]]}],\"heatmapgl\":[{\"type\":\"heatmapgl\",\"colorbar\":{\"outlinewidth\":0,\"ticks\":\"\"},\"colorscale\":[[0.0,\"#0d0887\"],[0.1111111111111111,\"#46039f\"],[0.2222222222222222,\"#7201a8\"],[0.3333333333333333,\"#9c179e\"],[0.4444444444444444,\"#bd3786\"],[0.5555555555555556,\"#d8576b\"],[0.6666666666666666,\"#ed7953\"],[0.7777777777777778,\"#fb9f3a\"],[0.8888888888888888,\"#fdca26\"],[1.0,\"#f0f921\"]]}],\"contourcarpet\":[{\"type\":\"contourcarpet\",\"colorbar\":{\"outlinewidth\":0,\"ticks\":\"\"}}],\"contour\":[{\"type\":\"contour\",\"colorbar\":{\"outlinewidth\":0,\"ticks\":\"\"},\"colorscale\":[[0.0,\"#0d0887\"],[0.1111111111111111,\"#46039f\"],[0.2222222222222222,\"#7201a8\"],[0.3333333333333333,\"#9c179e\"],[0.4444444444444444,\"#bd3786\"],[0.5555555555555556,\"#d8576b\"],[0.6666666666666666,\"#ed7953\"],[0.7777777777777778,\"#fb9f3a\"],[0.8888888888888888,\"#fdca26\"],[1.0,\"#f0f921\"]]}],\"surface\":[{\"type\":\"surface\",\"colorbar\":{\"outlinewidth\":0,\"ticks\":\"\"},\"colorscale\":[[0.0,\"#0d0887\"],[0.1111111111111111,\"#46039f\"],[0.2222222222222222,\"#7201a8\"],[0.3333333333333333,\"#9c179e\"],[0.4444444444444444,\"#bd3786\"],[0.5555555555555556,\"#d8576b\"],[0.6666666666666666,\"#ed7953\"],[0.7777777777777778,\"#fb9f3a\"],[0.8888888888888888,\"#fdca26\"],[1.0,\"#f0f921\"]]}],\"mesh3d\":[{\"type\":\"mesh3d\",\"colorbar\":{\"outlinewidth\":0,\"ticks\":\"\"}}],\"scatter\":[{\"fillpattern\":{\"fillmode\":\"overlay\",\"size\":10,\"solidity\":0.2},\"type\":\"scatter\"}],\"parcoords\":[{\"type\":\"parcoords\",\"line\":{\"colorbar\":{\"outlinewidth\":0,\"ticks\":\"\"}}}],\"scatterpolargl\":[{\"type\":\"scatterpolargl\",\"marker\":{\"colorbar\":{\"outlinewidth\":0,\"ticks\":\"\"}}}],\"bar\":[{\"error_x\":{\"color\":\"#2a3f5f\"},\"error_y\":{\"color\":\"#2a3f5f\"},\"marker\":{\"line\":{\"color\":\"#E5ECF6\",\"width\":0.5},\"pattern\":{\"fillmode\":\"overlay\",\"size\":10,\"solidity\":0.2}},\"type\":\"bar\"}],\"scattergeo\":[{\"type\":\"scattergeo\",\"marker\":{\"colorbar\":{\"outlinewidth\":0,\"ticks\":\"\"}}}],\"scatterpolar\":[{\"type\":\"scatterpolar\",\"marker\":{\"colorbar\":{\"outlinewidth\":0,\"ticks\":\"\"}}}],\"histogram\":[{\"marker\":{\"pattern\":{\"fillmode\":\"overlay\",\"size\":10,\"solidity\":0.2}},\"type\":\"histogram\"}],\"scattergl\":[{\"type\":\"scattergl\",\"marker\":{\"colorbar\":{\"outlinewidth\":0,\"ticks\":\"\"}}}],\"scatter3d\":[{\"type\":\"scatter3d\",\"line\":{\"colorbar\":{\"outlinewidth\":0,\"ticks\":\"\"}},\"marker\":{\"colorbar\":{\"outlinewidth\":0,\"ticks\":\"\"}}}],\"scattermapbox\":[{\"type\":\"scattermapbox\",\"marker\":{\"colorbar\":{\"outlinewidth\":0,\"ticks\":\"\"}}}],\"scatterternary\":[{\"type\":\"scatterternary\",\"marker\":{\"colorbar\":{\"outlinewidth\":0,\"ticks\":\"\"}}}],\"scattercarpet\":[{\"type\":\"scattercarpet\",\"marker\":{\"colorbar\":{\"outlinewidth\":0,\"ticks\":\"\"}}}],\"carpet\":[{\"aaxis\":{\"endlinecolor\":\"#2a3f5f\",\"gridcolor\":\"white\",\"linecolor\":\"white\",\"minorgridcolor\":\"white\",\"startlinecolor\":\"#2a3f5f\"},\"baxis\":{\"endlinecolor\":\"#2a3f5f\",\"gridcolor\":\"white\",\"linecolor\":\"white\",\"minorgridcolor\":\"white\",\"startlinecolor\":\"#2a3f5f\"},\"type\":\"carpet\"}],\"table\":[{\"cells\":{\"fill\":{\"color\":\"#EBF0F8\"},\"line\":{\"color\":\"white\"}},\"header\":{\"fill\":{\"color\":\"#C8D4E3\"},\"line\":{\"color\":\"white\"}},\"type\":\"table\"}],\"barpolar\":[{\"marker\":{\"line\":{\"color\":\"#E5ECF6\",\"width\":0.5},\"pattern\":{\"fillmode\":\"overlay\",\"size\":10,\"solidity\":0.2}},\"type\":\"barpolar\"}],\"pie\":[{\"automargin\":true,\"type\":\"pie\"}]},\"layout\":{\"autotypenumbers\":\"strict\",\"colorway\":[\"#636efa\",\"#EF553B\",\"#00cc96\",\"#ab63fa\",\"#FFA15A\",\"#19d3f3\",\"#FF6692\",\"#B6E880\",\"#FF97FF\",\"#FECB52\"],\"font\":{\"color\":\"#2a3f5f\"},\"hovermode\":\"closest\",\"hoverlabel\":{\"align\":\"left\"},\"paper_bgcolor\":\"white\",\"plot_bgcolor\":\"#E5ECF6\",\"polar\":{\"bgcolor\":\"#E5ECF6\",\"angularaxis\":{\"gridcolor\":\"white\",\"linecolor\":\"white\",\"ticks\":\"\"},\"radialaxis\":{\"gridcolor\":\"white\",\"linecolor\":\"white\",\"ticks\":\"\"}},\"ternary\":{\"bgcolor\":\"#E5ECF6\",\"aaxis\":{\"gridcolor\":\"white\",\"linecolor\":\"white\",\"ticks\":\"\"},\"baxis\":{\"gridcolor\":\"white\",\"linecolor\":\"white\",\"ticks\":\"\"},\"caxis\":{\"gridcolor\":\"white\",\"linecolor\":\"white\",\"ticks\":\"\"}},\"coloraxis\":{\"colorbar\":{\"outlinewidth\":0,\"ticks\":\"\"}},\"colorscale\":{\"sequential\":[[0.0,\"#0d0887\"],[0.1111111111111111,\"#46039f\"],[0.2222222222222222,\"#7201a8\"],[0.3333333333333333,\"#9c179e\"],[0.4444444444444444,\"#bd3786\"],[0.5555555555555556,\"#d8576b\"],[0.6666666666666666,\"#ed7953\"],[0.7777777777777778,\"#fb9f3a\"],[0.8888888888888888,\"#fdca26\"],[1.0,\"#f0f921\"]],\"sequentialminus\":[[0.0,\"#0d0887\"],[0.1111111111111111,\"#46039f\"],[0.2222222222222222,\"#7201a8\"],[0.3333333333333333,\"#9c179e\"],[0.4444444444444444,\"#bd3786\"],[0.5555555555555556,\"#d8576b\"],[0.6666666666666666,\"#ed7953\"],[0.7777777777777778,\"#fb9f3a\"],[0.8888888888888888,\"#fdca26\"],[1.0,\"#f0f921\"]],\"diverging\":[[0,\"#8e0152\"],[0.1,\"#c51b7d\"],[0.2,\"#de77ae\"],[0.3,\"#f1b6da\"],[0.4,\"#fde0ef\"],[0.5,\"#f7f7f7\"],[0.6,\"#e6f5d0\"],[0.7,\"#b8e186\"],[0.8,\"#7fbc41\"],[0.9,\"#4d9221\"],[1,\"#276419\"]]},\"xaxis\":{\"gridcolor\":\"white\",\"linecolor\":\"white\",\"ticks\":\"\",\"title\":{\"standoff\":15},\"zerolinecolor\":\"white\",\"automargin\":true,\"zerolinewidth\":2},\"yaxis\":{\"gridcolor\":\"white\",\"linecolor\":\"white\",\"ticks\":\"\",\"title\":{\"standoff\":15},\"zerolinecolor\":\"white\",\"automargin\":true,\"zerolinewidth\":2},\"scene\":{\"xaxis\":{\"backgroundcolor\":\"#E5ECF6\",\"gridcolor\":\"white\",\"linecolor\":\"white\",\"showbackground\":true,\"ticks\":\"\",\"zerolinecolor\":\"white\",\"gridwidth\":2},\"yaxis\":{\"backgroundcolor\":\"#E5ECF6\",\"gridcolor\":\"white\",\"linecolor\":\"white\",\"showbackground\":true,\"ticks\":\"\",\"zerolinecolor\":\"white\",\"gridwidth\":2},\"zaxis\":{\"backgroundcolor\":\"#E5ECF6\",\"gridcolor\":\"white\",\"linecolor\":\"white\",\"showbackground\":true,\"ticks\":\"\",\"zerolinecolor\":\"white\",\"gridwidth\":2}},\"shapedefaults\":{\"line\":{\"color\":\"#2a3f5f\"}},\"annotationdefaults\":{\"arrowcolor\":\"#2a3f5f\",\"arrowhead\":0,\"arrowwidth\":1},\"geo\":{\"bgcolor\":\"white\",\"landcolor\":\"#E5ECF6\",\"subunitcolor\":\"white\",\"showland\":true,\"showlakes\":true,\"lakecolor\":\"white\"},\"title\":{\"x\":0.05},\"mapbox\":{\"style\":\"light\"}}},\"xaxis\":{\"anchor\":\"y\",\"domain\":[0.0,1.0],\"title\":{\"text\":\"PCA1\"}},\"yaxis\":{\"anchor\":\"x\",\"domain\":[0.0,1.0],\"title\":{\"text\":\"PCA2\"}},\"legend\":{\"title\":{\"text\":\"Cluster\"},\"tracegroupgap\":0},\"margin\":{\"t\":60},\"plot_bgcolor\":\"rgb(240,240,240)\",\"title\":{\"text\":\"2D Cluster PCA Plot\"},\"height\":600},                        {\"responsive\": true}                    ).then(function(){\n",
       "                            \n",
       "var gd = document.getElementById('163a4420-0c59-4a30-8515-5bcb185a0f09');\n",
       "var x = new MutationObserver(function (mutations, observer) {{\n",
       "        var display = window.getComputedStyle(gd).display;\n",
       "        if (!display || display === 'none') {{\n",
       "            console.log([gd, 'removed!']);\n",
       "            Plotly.purge(gd);\n",
       "            observer.disconnect();\n",
       "        }}\n",
       "}});\n",
       "\n",
       "// Listen for the removal of the full notebook cells\n",
       "var notebookContainer = gd.closest('#notebook-container');\n",
       "if (notebookContainer) {{\n",
       "    x.observe(notebookContainer, {childList: true});\n",
       "}}\n",
       "\n",
       "// Listen for the clearing of the current output cell\n",
       "var outputEl = gd.closest('.output');\n",
       "if (outputEl) {{\n",
       "    x.observe(outputEl, {childList: true});\n",
       "}}\n",
       "\n",
       "                        })                };                            </script>        </div>\n",
       "</body>\n",
       "</html>"
      ]
     },
     "metadata": {},
     "output_type": "display_data"
    }
   ],
   "source": [
    "plot_model(kmeans)"
   ]
  },
  {
   "cell_type": "code",
   "execution_count": 18,
   "metadata": {
    "colab": {
     "base_uri": "https://localhost:8080/",
     "height": 524
    },
    "id": "bm9Zuyhducl2",
    "outputId": "8297fa11-ce73-4ad6-f59f-7768cb88b74d"
   },
   "outputs": [
    {
     "data": {
      "text/html": [],
      "text/plain": [
       "<IPython.core.display.HTML object>"
      ]
     },
     "metadata": {},
     "output_type": "display_data"
    },
    {
     "data": {
      "image/png": "[encoded data removed]",
      "text/plain": [
       "<Figure size 800x550 with 1 Axes>"
      ]
     },
     "metadata": {},
     "output_type": "display_data"
    }
   ],
   "source": [
    "plot_model(kmeans,plot='elbow')"
   ]
  },
  {
   "cell_type": "markdown",
   "metadata": {
    "id": "yDR7IvejteQB"
   },
   "source": [
    "* datayı df2 de seçtiğim özelliklere göre 5 kümeye ayırdı,ben 5 kümeye ayırmıştım ama elbow 6yı gösterince tekrar 6 ile denedim, 4.cluster çok az, clusterlerde neler var görmek istedim ama başaramadım içeriği görüntülemeyi"
   ]
  },
  {
   "cell_type": "code",
   "execution_count": null,
   "metadata": {
    "id": "rUJa22ssu-U8"
   },
   "outputs": [],
   "source": []
  }
 ],
 "metadata": {
  "accelerator": "GPU",
  "colab": {
   "gpuType": "T4",
   "machine_shape": "hm",
   "provenance": []
  },
  "kernelspec": {
   "display_name": "Python 3 (ipykernel)",
   "language": "python",
   "name": "python3"
  },
  "language_info": {
   "codemirror_mode": {
    "name": "ipython",
    "version": 3
   },
   "file_extension": ".py",
   "mimetype": "text/x-python",
   "name": "python",
   "nbconvert_exporter": "python",
   "pygments_lexer": "ipython3",
   "version": "3.12.4"
  },
  "widgets": {
   "application/vnd.jupyter.widget-state+json": {
    "154a41bc9cd14c78b672a3fb3d919ee4": {
     "model_module": "@jupyter-widgets/controls",
     "model_module_version": "1.5.0",
     "model_name": "DescriptionStyleModel",
     "state": {
      "_model_module": "@jupyter-widgets/controls",
      "_model_module_version": "1.5.0",
      "_model_name": "DescriptionStyleModel",
      "_view_count": null,
      "_view_module": "@jupyter-widgets/base",
      "_view_module_version": "1.2.0",
      "_view_name": "StyleView",
      "description_width": ""
     }
    },
    "26b8448a48f546c4b9ef94918788bcd8": {
     "model_module": "@jupyter-widgets/base",
     "model_module_version": "1.2.0",
     "model_name": "LayoutModel",
     "state": {
      "_model_module": "@jupyter-widgets/base",
      "_model_module_version": "1.2.0",
      "_model_name": "LayoutModel",
      "_view_count": null,
      "_view_module": "@jupyter-widgets/base",
      "_view_module_version": "1.2.0",
      "_view_name": "LayoutView",
      "align_content": null,
      "align_items": null,
      "align_self": null,
      "border": null,
      "bottom": null,
      "display": null,
      "flex": null,
      "flex_flow": null,
      "grid_area": null,
      "grid_auto_columns": null,
      "grid_auto_flow": null,
      "grid_auto_rows": null,
      "grid_column": null,
      "grid_gap": null,
      "grid_row": null,
      "grid_template_areas": null,
      "grid_template_columns": null,
      "grid_template_rows": null,
      "height": null,
      "justify_content": null,
      "justify_items": null,
      "left": null,
      "margin": null,
      "max_height": null,
      "max_width": null,
      "min_height": null,
      "min_width": null,
      "object_fit": null,
      "object_position": null,
      "order": null,
      "overflow": null,
      "overflow_x": null,
      "overflow_y": null,
      "padding": null,
      "right": null,
      "top": null,
      "visibility": null,
      "width": null
     }
    },
    "32abf6db8ef94c1a8690766fa743d55d": {
     "model_module": "@jupyter-widgets/controls",
     "model_module_version": "1.5.0",
     "model_name": "HTMLModel",
     "state": {
      "_dom_classes": [],
      "_model_module": "@jupyter-widgets/controls",
      "_model_module_version": "1.5.0",
      "_model_name": "HTMLModel",
      "_view_count": null,
      "_view_module": "@jupyter-widgets/controls",
      "_view_module_version": "1.5.0",
      "_view_name": "HTMLView",
      "description": "",
      "description_tooltip": null,
      "layout": "IPY_MODEL_26b8448a48f546c4b9ef94918788bcd8",
      "placeholder": "​",
      "style": "IPY_MODEL_154a41bc9cd14c78b672a3fb3d919ee4",
      "value": " 0/3 [00:00&lt;?, ?it/s]"
     }
    },
    "5aa037cc8b0d4b7d95214dcfde1dd9a3": {
     "model_module": "@jupyter-widgets/base",
     "model_module_version": "1.2.0",
     "model_name": "LayoutModel",
     "state": {
      "_model_module": "@jupyter-widgets/base",
      "_model_module_version": "1.2.0",
      "_model_name": "LayoutModel",
      "_view_count": null,
      "_view_module": "@jupyter-widgets/base",
      "_view_module_version": "1.2.0",
      "_view_name": "LayoutView",
      "align_content": null,
      "align_items": null,
      "align_self": null,
      "border": null,
      "bottom": null,
      "display": null,
      "flex": null,
      "flex_flow": null,
      "grid_area": null,
      "grid_auto_columns": null,
      "grid_auto_flow": null,
      "grid_auto_rows": null,
      "grid_column": null,
      "grid_gap": null,
      "grid_row": null,
      "grid_template_areas": null,
      "grid_template_columns": null,
      "grid_template_rows": null,
      "height": null,
      "justify_content": null,
      "justify_items": null,
      "left": null,
      "margin": null,
      "max_height": null,
      "max_width": null,
      "min_height": null,
      "min_width": null,
      "object_fit": null,
      "object_position": null,
      "order": null,
      "overflow": null,
      "overflow_x": null,
      "overflow_y": null,
      "padding": null,
      "right": null,
      "top": null,
      "visibility": null,
      "width": null
     }
    },
    "634026ac62784931a38b0a6c65b2c093": {
     "model_module": "@jupyter-widgets/controls",
     "model_module_version": "1.5.0",
     "model_name": "ProgressStyleModel",
     "state": {
      "_model_module": "@jupyter-widgets/controls",
      "_model_module_version": "1.5.0",
      "_model_name": "ProgressStyleModel",
      "_view_count": null,
      "_view_module": "@jupyter-widgets/base",
      "_view_module_version": "1.2.0",
      "_view_name": "StyleView",
      "bar_color": null,
      "description_width": ""
     }
    },
    "b8385df7b33248acbb27f3360c7ece8c": {
     "model_module": "@jupyter-widgets/base",
     "model_module_version": "1.2.0",
     "model_name": "LayoutModel",
     "state": {
      "_model_module": "@jupyter-widgets/base",
      "_model_module_version": "1.2.0",
      "_model_name": "LayoutModel",
      "_view_count": null,
      "_view_module": "@jupyter-widgets/base",
      "_view_module_version": "1.2.0",
      "_view_name": "LayoutView",
      "align_content": null,
      "align_items": null,
      "align_self": null,
      "border": null,
      "bottom": null,
      "display": null,
      "flex": null,
      "flex_flow": null,
      "grid_area": null,
      "grid_auto_columns": null,
      "grid_auto_flow": null,
      "grid_auto_rows": null,
      "grid_column": null,
      "grid_gap": null,
      "grid_row": null,
      "grid_template_areas": null,
      "grid_template_columns": null,
      "grid_template_rows": null,
      "height": null,
      "justify_content": null,
      "justify_items": null,
      "left": null,
      "margin": null,
      "max_height": null,
      "max_width": null,
      "min_height": null,
      "min_width": null,
      "object_fit": null,
      "object_position": null,
      "order": null,
      "overflow": null,
      "overflow_x": null,
      "overflow_y": null,
      "padding": null,
      "right": null,
      "top": null,
      "visibility": "hidden",
      "width": null
     }
    },
    "b8af4d81f84c42e09bcaf713c9712101": {
     "model_module": "@jupyter-widgets/controls",
     "model_module_version": "1.5.0",
     "model_name": "DescriptionStyleModel",
     "state": {
      "_model_module": "@jupyter-widgets/controls",
      "_model_module_version": "1.5.0",
      "_model_name": "DescriptionStyleModel",
      "_view_count": null,
      "_view_module": "@jupyter-widgets/base",
      "_view_module_version": "1.2.0",
      "_view_name": "StyleView",
      "description_width": ""
     }
    },
    "d0cc96ecf80e4c56b59574a6b5ed73e4": {
     "model_module": "@jupyter-widgets/controls",
     "model_module_version": "1.5.0",
     "model_name": "HBoxModel",
     "state": {
      "_dom_classes": [],
      "_model_module": "@jupyter-widgets/controls",
      "_model_module_version": "1.5.0",
      "_model_name": "HBoxModel",
      "_view_count": null,
      "_view_module": "@jupyter-widgets/controls",
      "_view_module_version": "1.5.0",
      "_view_name": "HBoxView",
      "box_style": "",
      "children": [
       "IPY_MODEL_e0aec8bd37fe467badd468a6774ae836",
       "IPY_MODEL_ff1c6ac8f31249079126591e31d40626",
       "IPY_MODEL_32abf6db8ef94c1a8690766fa743d55d"
      ],
      "layout": "IPY_MODEL_b8385df7b33248acbb27f3360c7ece8c"
     }
    },
    "d558d1e0ee4e4ecb8e0ec352df0ec406": {
     "model_module": "@jupyter-widgets/base",
     "model_module_version": "1.2.0",
     "model_name": "LayoutModel",
     "state": {
      "_model_module": "@jupyter-widgets/base",
      "_model_module_version": "1.2.0",
      "_model_name": "LayoutModel",
      "_view_count": null,
      "_view_module": "@jupyter-widgets/base",
      "_view_module_version": "1.2.0",
      "_view_name": "LayoutView",
      "align_content": null,
      "align_items": null,
      "align_self": null,
      "border": null,
      "bottom": null,
      "display": null,
      "flex": null,
      "flex_flow": null,
      "grid_area": null,
      "grid_auto_columns": null,
      "grid_auto_flow": null,
      "grid_auto_rows": null,
      "grid_column": null,
      "grid_gap": null,
      "grid_row": null,
      "grid_template_areas": null,
      "grid_template_columns": null,
      "grid_template_rows": null,
      "height": null,
      "justify_content": null,
      "justify_items": null,
      "left": null,
      "margin": null,
      "max_height": null,
      "max_width": null,
      "min_height": null,
      "min_width": null,
      "object_fit": null,
      "object_position": null,
      "order": null,
      "overflow": null,
      "overflow_x": null,
      "overflow_y": null,
      "padding": null,
      "right": null,
      "top": null,
      "visibility": null,
      "width": null
     }
    },
    "e0aec8bd37fe467badd468a6774ae836": {
     "model_module": "@jupyter-widgets/controls",
     "model_module_version": "1.5.0",
     "model_name": "HTMLModel",
     "state": {
      "_dom_classes": [],
      "_model_module": "@jupyter-widgets/controls",
      "_model_module_version": "1.5.0",
      "_model_name": "HTMLModel",
      "_view_count": null,
      "_view_module": "@jupyter-widgets/controls",
      "_view_module_version": "1.5.0",
      "_view_name": "HTMLView",
      "description": "",
      "description_tooltip": null,
      "layout": "IPY_MODEL_d558d1e0ee4e4ecb8e0ec352df0ec406",
      "placeholder": "​",
      "style": "IPY_MODEL_b8af4d81f84c42e09bcaf713c9712101",
      "value": "Processing:   0%"
     }
    },
    "ff1c6ac8f31249079126591e31d40626": {
     "model_module": "@jupyter-widgets/controls",
     "model_module_version": "1.5.0",
     "model_name": "FloatProgressModel",
     "state": {
      "_dom_classes": [],
      "_model_module": "@jupyter-widgets/controls",
      "_model_module_version": "1.5.0",
      "_model_name": "FloatProgressModel",
      "_view_count": null,
      "_view_module": "@jupyter-widgets/controls",
      "_view_module_version": "1.5.0",
      "_view_name": "ProgressView",
      "bar_style": "",
      "description": "",
      "description_tooltip": null,
      "layout": "IPY_MODEL_5aa037cc8b0d4b7d95214dcfde1dd9a3",
      "max": 3,
      "min": 0,
      "orientation": "horizontal",
      "style": "IPY_MODEL_634026ac62784931a38b0a6c65b2c093",
      "value": 3
     }
    }
   }
  }
 },
 "nbformat": 4,
 "nbformat_minor": 4
}
